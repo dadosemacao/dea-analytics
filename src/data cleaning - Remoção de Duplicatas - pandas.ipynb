{
 "cells": [
  {
   "cell_type": "code",
   "execution_count": 2,
   "metadata": {},
   "outputs": [],
   "source": [
    "import pandas as pd"
   ]
  },
  {
   "cell_type": "markdown",
   "metadata": {},
   "source": [
    "## Data Cleaning (Limpeza de Dados)\n",
    "---\n",
    "**As etapas típicas incluem:**\n",
    "- **Remoção de Duplicatas:**\n",
    "  - **Descrição:** Identificar e remover registros duplicados."
   ]
  },
  {
   "cell_type": "code",
   "execution_count": 3,
   "metadata": {},
   "outputs": [
    {
     "name": "stdout",
     "output_type": "stream",
     "text": [
      "        Nome  Idade Sexo\n",
      "0       João     25    M\n",
      "1      Maria     30    F\n",
      "2       José     35    M\n",
      "3        Ana     40    F\n",
      "4      Pedro     45    M\n",
      "5       João     25    M\n",
      "6     Carlos     50    M\n",
      "7      Maria     30    F\n",
      "8   Fernanda     55    F\n",
      "9      Paula     60    F\n",
      "10     Maria     30    F\n",
      "11       Ana     40    F\n"
     ]
    }
   ],
   "source": [
    "# Exemplo de dados\n",
    "dados = {\n",
    "    'Nome': ['João', 'Maria', 'José', 'Ana', 'Pedro', 'João', 'Carlos', 'Maria', 'Fernanda', 'Paula', 'Maria', 'Ana'],\n",
    "    'Idade': [25, 30, 35, 40, 45, 25, 50, 30, 55, 60, 30, 40],\n",
    "    'Sexo': ['M', 'F', 'M', 'F', 'M', 'M', 'M', 'F', 'F', 'F', 'F', 'F']\n",
    "}\n",
    "\n",
    "# Criando um DataFrame\n",
    "df = pd.DataFrame(dados)\n",
    "\n",
    "print(df)"
   ]
  },
  {
   "cell_type": "code",
   "execution_count": 4,
   "metadata": {},
   "outputs": [
    {
     "name": "stdout",
     "output_type": "stream",
     "text": [
      "       Nome  Idade Sexo\n",
      "0      João     25    M\n",
      "1     Maria     30    F\n",
      "2      José     35    M\n",
      "3       Ana     40    F\n",
      "4     Pedro     45    M\n",
      "6    Carlos     50    M\n",
      "8  Fernanda     55    F\n",
      "9     Paula     60    F\n"
     ]
    }
   ],
   "source": [
    "# Removendo registros duplicados com base em todas as colunas\n",
    "df_sem_duplicados = df.drop_duplicates()\n",
    "\n",
    "print(df_sem_duplicados)"
   ]
  }
 ],
 "metadata": {
  "kernelspec": {
   "display_name": "v-analytics",
   "language": "python",
   "name": "python3"
  },
  "language_info": {
   "codemirror_mode": {
    "name": "ipython",
    "version": 3
   },
   "file_extension": ".py",
   "mimetype": "text/x-python",
   "name": "python",
   "nbconvert_exporter": "python",
   "pygments_lexer": "ipython3",
   "version": "3.11.4"
  }
 },
 "nbformat": 4,
 "nbformat_minor": 2
}
