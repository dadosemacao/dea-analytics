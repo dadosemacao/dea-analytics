{
 "cells": [
  {
   "cell_type": "markdown",
   "metadata": {},
   "source": [
    "## 2. Estruturas de dados: Listas, tuplas, dicionários, conjuntos."
   ]
  },
  {
   "cell_type": "markdown",
   "metadata": {},
   "source": [
    "### 1. **Listas:**"
   ]
  },
  {
   "cell_type": "code",
   "execution_count": 16,
   "metadata": {},
   "outputs": [
    {
     "name": "stdout",
     "output_type": "stream",
     "text": [
      "[1, 2, 3, 4, 5]\n"
     ]
    }
   ],
   "source": [
    "# Criando uma lista\n",
    "lista = [1, 2, 3, 4, 5]\n",
    "print(lista)"
   ]
  },
  {
   "cell_type": "code",
   "execution_count": 12,
   "metadata": {},
   "outputs": [
    {
     "name": "stdout",
     "output_type": "stream",
     "text": [
      "primeiro_elemento: 1\n",
      "segundo_elemento: 2\n",
      "segundo_elemento: 5\n",
      "segundo_elemento: 5\n"
     ]
    }
   ],
   "source": [
    "# Acessando elementos da lista\n",
    "primeiro_elemento = lista[0]\n",
    "segundo_elemento = lista[1]\n",
    "ultimo_elemento_1 = lista[4]\n",
    "ultimo_elemento_2 = lista[-1]\n",
    "\n",
    "print(f\"primeiro_elemento: {primeiro_elemento}\")\n",
    "print(f\"segundo_elemento: {segundo_elemento}\")\n",
    "print(f\"segundo_elemento: {ultimo_elemento_1}\")\n",
    "print(f\"segundo_elemento: {ultimo_elemento_2}\")"
   ]
  },
  {
   "cell_type": "code",
   "execution_count": 17,
   "metadata": {},
   "outputs": [
    {
     "name": "stdout",
     "output_type": "stream",
     "text": [
      "[1, 2, 3, 4, 5, 6]\n"
     ]
    }
   ],
   "source": [
    "# Adicionando elementos à lista\n",
    "lista.append(6)\n",
    "print(lista)"
   ]
  },
  {
   "cell_type": "code",
   "execution_count": 15,
   "metadata": {},
   "outputs": [
    {
     "name": "stdout",
     "output_type": "stream",
     "text": [
      "[1, 2, 4, 5]\n"
     ]
    }
   ],
   "source": [
    "# Removendo elementos da lista\n",
    "lista.remove(6)\n",
    "print(lista)"
   ]
  },
  {
   "cell_type": "code",
   "execution_count": 18,
   "metadata": {},
   "outputs": [
    {
     "name": "stdout",
     "output_type": "stream",
     "text": [
      "1\n",
      "2\n",
      "3\n",
      "4\n",
      "5\n",
      "6\n"
     ]
    }
   ],
   "source": [
    "# Iterando sobre os elementos da lista\n",
    "for elemento in lista:\n",
    "    print(elemento)"
   ]
  },
  {
   "cell_type": "code",
   "execution_count": 26,
   "metadata": {},
   "outputs": [
    {
     "name": "stdout",
     "output_type": "stream",
     "text": [
      "[3, 4, 5]\n"
     ]
    }
   ],
   "source": [
    "# Lst[ Initial : End : IndexJump ]\n",
    "# Se Lst for uma lista, a expressão acima retornará a parte da lista do índice Initial ao índice End , em um tamanho de passo IndexJump .\n",
    "\n",
    "print(lista[2:-1:1])"
   ]
  },
  {
   "cell_type": "markdown",
   "metadata": {},
   "source": [
    "### 2. **Tuplas:**"
   ]
  },
  {
   "cell_type": "code",
   "execution_count": 27,
   "metadata": {},
   "outputs": [
    {
     "name": "stdout",
     "output_type": "stream",
     "text": [
      "1\n",
      "2\n",
      "3\n",
      "4\n",
      "5\n"
     ]
    }
   ],
   "source": [
    "# Criando uma tupla\n",
    "tupla = (1, 2, 3, 4, 5)\n",
    "\n",
    "# Criando uma tupla\n",
    "tupla = (1, 2, 3, 4, 5)\n",
    "\n",
    "# Acessando elementos da tupla\n",
    "primeiro_elemento = tupla[0]\n",
    "segundo_elemento = tupla[1]\n",
    "\n",
    "# Iterando sobre os elementos da tupla\n",
    "for elemento in tupla:\n",
    "    print(elemento)"
   ]
  },
  {
   "cell_type": "markdown",
   "metadata": {},
   "source": [
    "### 3. **Dicionários:**"
   ]
  },
  {
   "cell_type": "code",
   "execution_count": 29,
   "metadata": {},
   "outputs": [
    {
     "name": "stdout",
     "output_type": "stream",
     "text": [
      "{'nome': 'João', 'idade': 30, 'cidade': 'São Paulo'}\n"
     ]
    }
   ],
   "source": [
    "# Criando um dicionário\n",
    "dicionario = {'nome': 'João', 'idade': 30, 'cidade': 'São Paulo'}\n",
    "print(dicionario)"
   ]
  },
  {
   "cell_type": "code",
   "execution_count": 30,
   "metadata": {},
   "outputs": [
    {
     "name": "stdout",
     "output_type": "stream",
     "text": [
      "nome: João\n",
      "idade: 30\n"
     ]
    }
   ],
   "source": [
    "# Acessando valores no dicionário\n",
    "nome = dicionario['nome']\n",
    "idade = dicionario['idade']\n",
    "\n",
    "print(f\"nome: {nome}\")\n",
    "print(f\"idade: {idade}\")"
   ]
  },
  {
   "cell_type": "code",
   "execution_count": 31,
   "metadata": {},
   "outputs": [
    {
     "name": "stdout",
     "output_type": "stream",
     "text": [
      "{'nome': 'João', 'idade': 30, 'cidade': 'São Paulo', 'profissão': 'Engenheiro'}\n"
     ]
    }
   ],
   "source": [
    "# Adicionando novos pares chave-valor ao dicionário\n",
    "dicionario['profissão'] = 'Engenheiro'\n",
    "print(dicionario)"
   ]
  },
  {
   "cell_type": "code",
   "execution_count": 32,
   "metadata": {},
   "outputs": [
    {
     "name": "stdout",
     "output_type": "stream",
     "text": [
      "{'nome': 'João', 'idade': 30, 'profissão': 'Engenheiro'}\n"
     ]
    }
   ],
   "source": [
    "# Removendo um par chave-valor do dicionário\n",
    "del dicionario['cidade']\n",
    "print(dicionario)"
   ]
  },
  {
   "cell_type": "code",
   "execution_count": 33,
   "metadata": {},
   "outputs": [
    {
     "name": "stdout",
     "output_type": "stream",
     "text": [
      "nome : João\n",
      "idade : 30\n",
      "profissão : Engenheiro\n"
     ]
    }
   ],
   "source": [
    "# Iterando sobre os itens do dicionário\n",
    "for chave, valor in dicionario.items():\n",
    "    print(chave, ':', valor)"
   ]
  },
  {
   "cell_type": "markdown",
   "metadata": {},
   "source": [
    "### 4. **Conjuntos:**"
   ]
  },
  {
   "cell_type": "code",
   "execution_count": 35,
   "metadata": {},
   "outputs": [
    {
     "name": "stdout",
     "output_type": "stream",
     "text": [
      "{1, 2, 3, 4, 5}\n"
     ]
    }
   ],
   "source": [
    "# Criando um conjunto\n",
    "conjunto = {1, 2, 3, 4, 5}\n",
    "print(conjunto)"
   ]
  },
  {
   "cell_type": "code",
   "execution_count": 36,
   "metadata": {},
   "outputs": [
    {
     "name": "stdout",
     "output_type": "stream",
     "text": [
      "{1, 2, 3, 4, 5, 6}\n"
     ]
    }
   ],
   "source": [
    "# Adicionando elementos ao conjunto\n",
    "conjunto.add(6)\n",
    "print(conjunto)"
   ]
  },
  {
   "cell_type": "code",
   "execution_count": 37,
   "metadata": {},
   "outputs": [
    {
     "name": "stdout",
     "output_type": "stream",
     "text": [
      "{1, 2, 4, 5, 6}\n"
     ]
    }
   ],
   "source": [
    "# Removendo elementos do conjunto\n",
    "conjunto.remove(3)\n",
    "print(conjunto)"
   ]
  },
  {
   "cell_type": "code",
   "execution_count": 38,
   "metadata": {},
   "outputs": [
    {
     "name": "stdout",
     "output_type": "stream",
     "text": [
      "1\n",
      "2\n",
      "4\n",
      "5\n",
      "6\n"
     ]
    }
   ],
   "source": [
    "# Iterando sobre os elementos do conjunto\n",
    "for elemento in conjunto:\n",
    "    print(elemento)"
   ]
  }
 ],
 "metadata": {
  "kernelspec": {
   "display_name": "v-analytics",
   "language": "python",
   "name": "python3"
  },
  "language_info": {
   "codemirror_mode": {
    "name": "ipython",
    "version": 3
   },
   "file_extension": ".py",
   "mimetype": "text/x-python",
   "name": "python",
   "nbconvert_exporter": "python",
   "pygments_lexer": "ipython3",
   "version": "3.11.4"
  }
 },
 "nbformat": 4,
 "nbformat_minor": 2
}
