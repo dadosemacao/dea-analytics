{
 "cells": [
  {
   "cell_type": "code",
   "execution_count": 2,
   "metadata": {},
   "outputs": [],
   "source": [
    "import pandas as pd"
   ]
  },
  {
   "cell_type": "markdown",
   "metadata": {},
   "source": [
    "## Data Cleaning (Limpeza de Dados)\n",
    "---\n",
    "**As etapas típicas incluem:**\n",
    "- **Padronização de Dados:**\n",
    "    - **Descrição:** Garantir consistência nos formatos dos dados."
   ]
  },
  {
   "cell_type": "code",
   "execution_count": 3,
   "metadata": {},
   "outputs": [
    {
     "name": "stdout",
     "output_type": "stream",
     "text": [
      "    Nome Data_Nascimento\n",
      "0   João      1990-01-15\n",
      "1  Maria      05/20/1985\n",
      "2   José      1992-12-31\n"
     ]
    }
   ],
   "source": [
    "# Exemplo de dados\n",
    "dados = {\n",
    "    'Nome': ['João', 'Maria', 'José'],\n",
    "    'Data_Nascimento': ['1990-01-15', '05/20/1985', '1992-12-31']\n",
    "}\n",
    "\n",
    "# Criando um DataFrame\n",
    "df = pd.DataFrame(dados)\n",
    "\n",
    "print(df)"
   ]
  },
  {
   "cell_type": "code",
   "execution_count": 4,
   "metadata": {},
   "outputs": [
    {
     "name": "stdout",
     "output_type": "stream",
     "text": [
      "    Nome Data_Nascimento\n",
      "0   João      1990-01-15\n",
      "1  Maria             NaT\n",
      "2   José      1992-12-31\n"
     ]
    }
   ],
   "source": [
    "# Convertendo a coluna 'Data_Nascimento' para o formato de data padrão (YYYY-MM-DD)\n",
    "df[\"Data_Nascimento\"] = pd.to_datetime(df[\"Data_Nascimento\"], errors=\"coerce\")\n",
    "\n",
    "print(df)"
   ]
  }
 ],
 "metadata": {
  "kernelspec": {
   "display_name": "v-analytics",
   "language": "python",
   "name": "python3"
  },
  "language_info": {
   "codemirror_mode": {
    "name": "ipython",
    "version": 3
   },
   "file_extension": ".py",
   "mimetype": "text/x-python",
   "name": "python",
   "nbconvert_exporter": "python",
   "pygments_lexer": "ipython3",
   "version": "3.11.4"
  }
 },
 "nbformat": 4,
 "nbformat_minor": 2
}
