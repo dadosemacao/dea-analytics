{
 "cells": [
  {
   "cell_type": "markdown",
   "metadata": {},
   "source": [
    "## 7. Programação orientada a objetos: Classes, herança, polimorfismo."
   ]
  },
  {
   "cell_type": "markdown",
   "metadata": {},
   "source": [
    "### 1. **Classes:**"
   ]
  },
  {
   "cell_type": "code",
   "execution_count": 1,
   "metadata": {},
   "outputs": [],
   "source": [
    "class Pessoa:\n",
    "    def __init__(self, nome, idade):\n",
    "        self.nome = nome\n",
    "        self.idade = idade\n",
    "\n",
    "    def apresentar(self):\n",
    "        print(f\"Olá, meu nome é {self.nome} e tenho {self.idade} anos.\")"
   ]
  },
  {
   "cell_type": "markdown",
   "metadata": {},
   "source": [
    "### 2. **Objetos:**"
   ]
  },
  {
   "cell_type": "code",
   "execution_count": 2,
   "metadata": {},
   "outputs": [],
   "source": [
    "# Criando um objeto da classe Pessoa\n",
    "pessoa1 = Pessoa(\"João\", 30)"
   ]
  },
  {
   "cell_type": "code",
   "execution_count": 3,
   "metadata": {},
   "outputs": [
    {
     "name": "stdout",
     "output_type": "stream",
     "text": [
      "Olá, meu nome é João e tenho 30 anos.\n"
     ]
    }
   ],
   "source": [
    "# Chamando o método apresentar do objeto\n",
    "pessoa1.apresentar()"
   ]
  },
  {
   "cell_type": "markdown",
   "metadata": {},
   "source": [
    "### 3. **Herança:**"
   ]
  },
  {
   "cell_type": "code",
   "execution_count": 4,
   "metadata": {},
   "outputs": [],
   "source": [
    "class Estudante(Pessoa):\n",
    "    def __init__(self, nome, idade, curso):\n",
    "        super().__init__(nome, idade)\n",
    "        self.curso = curso\n",
    "\n",
    "    def estudar(self):\n",
    "        print(f\"{self.nome} está estudando {self.curso}.\")"
   ]
  },
  {
   "cell_type": "code",
   "execution_count": 5,
   "metadata": {},
   "outputs": [],
   "source": [
    "estudante1 = Estudante(\"João\", 30, \"Mestre dos Dados\")"
   ]
  },
  {
   "cell_type": "code",
   "execution_count": 6,
   "metadata": {},
   "outputs": [
    {
     "name": "stdout",
     "output_type": "stream",
     "text": [
      "João está estudando Mestre dos Dados.\n"
     ]
    }
   ],
   "source": [
    "estudante1.estudar()"
   ]
  },
  {
   "cell_type": "code",
   "execution_count": 7,
   "metadata": {},
   "outputs": [
    {
     "name": "stdout",
     "output_type": "stream",
     "text": [
      "Olá, meu nome é João e tenho 30 anos.\n"
     ]
    }
   ],
   "source": [
    "estudante1.apresentar()"
   ]
  },
  {
   "cell_type": "markdown",
   "metadata": {},
   "source": [
    "### 4. **Polimorfismo:**"
   ]
  },
  {
   "cell_type": "code",
   "execution_count": 8,
   "metadata": {},
   "outputs": [],
   "source": [
    "# Método comum a várias classes\n",
    "def realizar_atividade(pessoa):\n",
    "    pessoa.apresentar()  # Chama o método apresentar de acordo com a classe do objeto"
   ]
  },
  {
   "cell_type": "code",
   "execution_count": 10,
   "metadata": {},
   "outputs": [],
   "source": [
    "# Criando objetos de diferentes classes\n",
    "pessoa2 = Pessoa(\"Maria\", 25)\n",
    "estudante1 = Estudante(\"Carlos\", 20, \"Engenharia\")"
   ]
  },
  {
   "cell_type": "code",
   "execution_count": 11,
   "metadata": {},
   "outputs": [
    {
     "name": "stdout",
     "output_type": "stream",
     "text": [
      "Olá, meu nome é Maria e tenho 25 anos.\n"
     ]
    }
   ],
   "source": [
    "realizar_atividade(pessoa2)"
   ]
  },
  {
   "cell_type": "code",
   "execution_count": 12,
   "metadata": {},
   "outputs": [
    {
     "name": "stdout",
     "output_type": "stream",
     "text": [
      "Olá, meu nome é Carlos e tenho 20 anos.\n"
     ]
    }
   ],
   "source": [
    "realizar_atividade(estudante1)"
   ]
  }
 ],
 "metadata": {
  "kernelspec": {
   "display_name": "v-analytics",
   "language": "python",
   "name": "python3"
  },
  "language_info": {
   "codemirror_mode": {
    "name": "ipython",
    "version": 3
   },
   "file_extension": ".py",
   "mimetype": "text/x-python",
   "name": "python",
   "nbconvert_exporter": "python",
   "pygments_lexer": "ipython3",
   "version": "3.11.4"
  }
 },
 "nbformat": 4,
 "nbformat_minor": 2
}
