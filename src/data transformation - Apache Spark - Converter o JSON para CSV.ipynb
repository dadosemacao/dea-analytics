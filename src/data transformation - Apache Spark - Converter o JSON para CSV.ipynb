{
 "cells": [
  {
   "cell_type": "code",
   "execution_count": 1,
   "metadata": {},
   "outputs": [],
   "source": [
    "import os\n",
    "import findspark\n",
    "findspark.init(os.environ['SPARK_HOME'])\n",
    "\n",
    "from pyspark.sql import SparkSession\n",
    "from pyspark.sql.functions import col, explode\n",
    "\n",
    "# Inicializando a sessão do Spark\n",
    "spark = SparkSession.builder.appName(\"ExemploAmostraDados\").getOrCreate()"
   ]
  },
  {
   "cell_type": "markdown",
   "metadata": {},
   "source": [
    "Para converter o JSON fornecido para um arquivo CSV usando PySpark, você pode seguir estes passos:\n",
    "\n",
    "1. Instale PySpark, se ainda não estiver instalado.\n",
    "2. Crie um script PySpark para ler o JSON, processar os dados e salvá-los em um arquivo CSV."
   ]
  },
  {
   "cell_type": "code",
   "execution_count": 3,
   "metadata": {},
   "outputs": [
    {
     "name": "stdout",
     "output_type": "stream",
     "text": [
      "{'Brasil': {'estados': [{'nome': 'São Paulo', 'cidades': [{'nome': 'Cotia', 'latitude': -23.6025, 'longitude': -46.9191, 'bairros': [{'nome': 'Centro', 'latitude': -23.603, 'longitude': -46.9175}, {'nome': 'Granja Viana', 'latitude': -23.5929, 'longitude': -46.8414}]}, {'nome': 'São Paulo', 'latitude': -23.5505, 'longitude': -46.6333, 'bairros': [{'nome': 'Vila Mariana', 'latitude': -23.5894, 'longitude': -46.6342}, {'nome': 'Pinheiros', 'latitude': -23.5614, 'longitude': -46.6996}]}]}, {'nome': 'Rio de Janeiro', 'cidades': [{'nome': 'Rio de Janeiro', 'latitude': -22.9068, 'longitude': -43.1729, 'bairros': [{'nome': 'Copacabana', 'latitude': -22.9711, 'longitude': -43.1822}, {'nome': 'Ipanema', 'latitude': -22.9836, 'longitude': -43.2075}]}]}]}}\n"
     ]
    }
   ],
   "source": [
    "import json\n",
    "\n",
    "f = open(\"../data/Localidades_Brasil.json\", encoding='utf8')\n",
    "\n",
    "json_data = json.load(f)\n",
    "print(json_data)"
   ]
  },
  {
   "cell_type": "code",
   "execution_count": 6,
   "metadata": {},
   "outputs": [
    {
     "name": "stdout",
     "output_type": "stream",
     "text": [
      "root\n",
      " |-- Brasil: struct (nullable = true)\n",
      " |    |-- estados: array (nullable = true)\n",
      " |    |    |-- element: struct (containsNull = true)\n",
      " |    |    |    |-- cidades: array (nullable = true)\n",
      " |    |    |    |    |-- element: struct (containsNull = true)\n",
      " |    |    |    |    |    |-- bairros: array (nullable = true)\n",
      " |    |    |    |    |    |    |-- element: struct (containsNull = true)\n",
      " |    |    |    |    |    |    |    |-- latitude: double (nullable = true)\n",
      " |    |    |    |    |    |    |    |-- longitude: double (nullable = true)\n",
      " |    |    |    |    |    |    |    |-- nome: string (nullable = true)\n",
      " |    |    |    |    |    |-- latitude: double (nullable = true)\n",
      " |    |    |    |    |    |-- longitude: double (nullable = true)\n",
      " |    |    |    |    |    |-- nome: string (nullable = true)\n",
      " |    |    |    |-- nome: string (nullable = true)\n",
      "\n"
     ]
    }
   ],
   "source": [
    "df = spark.read.json(spark.sparkContext.parallelize([json_data]))\n",
    "df.printSchema()"
   ]
  },
  {
   "cell_type": "code",
   "execution_count": 8,
   "metadata": {},
   "outputs": [
    {
     "name": "stdout",
     "output_type": "stream",
     "text": [
      "root\n",
      " |-- estado: struct (nullable = true)\n",
      " |    |-- cidades: array (nullable = true)\n",
      " |    |    |-- element: struct (containsNull = true)\n",
      " |    |    |    |-- bairros: array (nullable = true)\n",
      " |    |    |    |    |-- element: struct (containsNull = true)\n",
      " |    |    |    |    |    |-- latitude: double (nullable = true)\n",
      " |    |    |    |    |    |-- longitude: double (nullable = true)\n",
      " |    |    |    |    |    |-- nome: string (nullable = true)\n",
      " |    |    |    |-- latitude: double (nullable = true)\n",
      " |    |    |    |-- longitude: double (nullable = true)\n",
      " |    |    |    |-- nome: string (nullable = true)\n",
      " |    |-- nome: string (nullable = true)\n",
      "\n"
     ]
    }
   ],
   "source": [
    "df_estados = df.select(explode(\"Brasil.estados\").alias(\"estado\"))\n",
    "df_estados.printSchema()"
   ]
  },
  {
   "cell_type": "code",
   "execution_count": 9,
   "metadata": {},
   "outputs": [
    {
     "name": "stdout",
     "output_type": "stream",
     "text": [
      "root\n",
      " |-- estado_nome: string (nullable = true)\n",
      " |-- cidade: struct (nullable = true)\n",
      " |    |-- bairros: array (nullable = true)\n",
      " |    |    |-- element: struct (containsNull = true)\n",
      " |    |    |    |-- latitude: double (nullable = true)\n",
      " |    |    |    |-- longitude: double (nullable = true)\n",
      " |    |    |    |-- nome: string (nullable = true)\n",
      " |    |-- latitude: double (nullable = true)\n",
      " |    |-- longitude: double (nullable = true)\n",
      " |    |-- nome: string (nullable = true)\n",
      "\n"
     ]
    }
   ],
   "source": [
    "df_cidades = df_estados.select(col(\"estado.nome\").alias(\"estado_nome\"), explode(\"estado.cidades\").alias(\"cidade\"))\n",
    "df_cidades.printSchema()"
   ]
  },
  {
   "cell_type": "code",
   "execution_count": 11,
   "metadata": {},
   "outputs": [
    {
     "name": "stdout",
     "output_type": "stream",
     "text": [
      "root\n",
      " |-- estado_nome: string (nullable = true)\n",
      " |-- cidade_nome: string (nullable = true)\n",
      " |-- cidade_latitude: double (nullable = true)\n",
      " |-- cidade_longitude: double (nullable = true)\n",
      " |-- bairro: struct (nullable = true)\n",
      " |    |-- latitude: double (nullable = true)\n",
      " |    |-- longitude: double (nullable = true)\n",
      " |    |-- nome: string (nullable = true)\n",
      "\n"
     ]
    }
   ],
   "source": [
    "df_bairros = df_cidades.select(\n",
    "    col(\"estado_nome\"),\n",
    "    col(\"cidade.nome\").alias(\"cidade_nome\"),\n",
    "    col(\"cidade.latitude\").alias(\"cidade_latitude\"),\n",
    "    col(\"cidade.longitude\").alias(\"cidade_longitude\"),\n",
    "    explode(\"cidade.bairros\").alias(\"bairro\")\n",
    ")\n",
    "df_bairros.printSchema()"
   ]
  },
  {
   "cell_type": "code",
   "execution_count": 15,
   "metadata": {},
   "outputs": [
    {
     "name": "stdout",
     "output_type": "stream",
     "text": [
      "+--------------+--------------+---------------+----------------+------------+---------------+----------------+\n",
      "|   estado_nome|   cidade_nome|cidade_latitude|cidade_longitude| bairro_nome|bairro_latitude|bairro_longitude|\n",
      "+--------------+--------------+---------------+----------------+------------+---------------+----------------+\n",
      "|     São Paulo|         Cotia|       -23.6025|        -46.9191|      Centro|        -23.603|        -46.9175|\n",
      "|     São Paulo|         Cotia|       -23.6025|        -46.9191|Granja Viana|       -23.5929|        -46.8414|\n",
      "|     São Paulo|     São Paulo|       -23.5505|        -46.6333|Vila Mariana|       -23.5894|        -46.6342|\n",
      "|     São Paulo|     São Paulo|       -23.5505|        -46.6333|   Pinheiros|       -23.5614|        -46.6996|\n",
      "|Rio de Janeiro|Rio de Janeiro|       -22.9068|        -43.1729|  Copacabana|       -22.9711|        -43.1822|\n",
      "|Rio de Janeiro|Rio de Janeiro|       -22.9068|        -43.1729|     Ipanema|       -22.9836|        -43.2075|\n",
      "+--------------+--------------+---------------+----------------+------------+---------------+----------------+\n",
      "\n"
     ]
    }
   ],
   "source": [
    "df_final = df_bairros.select(\n",
    "    col(\"estado_nome\"),\n",
    "    col(\"cidade_nome\"),\n",
    "    col(\"cidade_latitude\"),\n",
    "    col(\"cidade_longitude\"),\n",
    "    col(\"bairro.nome\").alias(\"bairro_nome\"),\n",
    "    col(\"bairro.latitude\").alias(\"bairro_latitude\"),\n",
    "    col(\"bairro.longitude\").alias(\"bairro_longitude\")\n",
    ")\n",
    "\n",
    "df_final.show()"
   ]
  }
 ],
 "metadata": {
  "kernelspec": {
   "display_name": "Python 3",
   "language": "python",
   "name": "python3"
  },
  "language_info": {
   "codemirror_mode": {
    "name": "ipython",
    "version": 3
   },
   "file_extension": ".py",
   "mimetype": "text/x-python",
   "name": "python",
   "nbconvert_exporter": "python",
   "pygments_lexer": "ipython3",
   "version": "3.11.4"
  }
 },
 "nbformat": 4,
 "nbformat_minor": 2
}
