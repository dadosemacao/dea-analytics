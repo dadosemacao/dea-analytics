{
 "cells": [
  {
   "cell_type": "code",
   "execution_count": 2,
   "metadata": {},
   "outputs": [
    {
     "name": "stderr",
     "output_type": "stream",
     "text": [
      "d:\\dea\\dea-analytics\\v-analytics\\Lib\\site-packages\\fuzzywuzzy\\fuzz.py:11: UserWarning: Using slow pure-python SequenceMatcher. Install python-Levenshtein to remove this warning\n",
      "  warnings.warn('Using slow pure-python SequenceMatcher. Install python-Levenshtein to remove this warning')\n"
     ]
    }
   ],
   "source": [
    "import pandas as pd\n",
    "from fuzzywuzzy import process  # Biblioteca para correspondência difusa de strings"
   ]
  },
  {
   "cell_type": "markdown",
   "metadata": {},
   "source": [
    "## Data Cleaning (Limpeza de Dados)\n",
    "---\n",
    "**As etapas típicas incluem:**\n",
    "- **Correção de Erros de Digitação:**\n",
    "    - **Descrição:** Identificar e corrigir erros de digitação ou ortografia."
   ]
  },
  {
   "cell_type": "code",
   "execution_count": 3,
   "metadata": {},
   "outputs": [
    {
     "name": "stdout",
     "output_type": "stream",
     "text": [
      "   ID  Produto  Preço\n",
      "0   1   Laptpo   1500\n",
      "1   2     Mose     30\n",
      "2   3  Keybard     20\n",
      "3   4  Monitor    300\n",
      "4   5    Mousi     45\n"
     ]
    }
   ],
   "source": [
    "# Exemplo de dados\n",
    "dados = {\n",
    "    'ID': [1, 2, 3, 4, 5],\n",
    "    'Produto': ['Laptpo', 'Mose', 'Keybard', 'Monitor', 'Mousi'],  # Erros de digitação\n",
    "    'Preço': [1500, 30, 20, 300, 45]\n",
    "}\n",
    "\n",
    "# Criando um DataFrame\n",
    "df = pd.DataFrame(dados)\n",
    "\n",
    "print(df)"
   ]
  },
  {
   "cell_type": "code",
   "execution_count": 4,
   "metadata": {},
   "outputs": [],
   "source": [
    "# Lista de nomes corretos dos produtos\n",
    "nomes_corretos = ['Laptop', 'Mouse', 'Keyboard', 'Monitor']"
   ]
  },
  {
   "cell_type": "code",
   "execution_count": 5,
   "metadata": {},
   "outputs": [],
   "source": [
    "# Função para corrigir os erros de digitação\n",
    "def corrigir_ortografia(produto):\n",
    "    # Utilizando correspondência difusa para encontrar o nome mais semelhante na lista de nomes corretos\n",
    "    nome_corrigido, _ = process.extractOne(produto, nomes_corretos)\n",
    "    return nome_corrigido"
   ]
  },
  {
   "cell_type": "code",
   "execution_count": 6,
   "metadata": {},
   "outputs": [
    {
     "name": "stdout",
     "output_type": "stream",
     "text": [
      "   ID   Produto  Preço\n",
      "0   1    Laptop   1500\n",
      "1   2     Mouse     30\n",
      "2   3  Keyboard     20\n",
      "3   4   Monitor    300\n",
      "4   5     Mouse     45\n"
     ]
    }
   ],
   "source": [
    "# Aplicando a função de correção nos dados da coluna 'Produto'\n",
    "df['Produto'] = df['Produto'].apply(corrigir_ortografia)\n",
    "\n",
    "# Exibindo o DataFrame após a correção de ortografia\n",
    "print(df)"
   ]
  }
 ],
 "metadata": {
  "kernelspec": {
   "display_name": "v-analytics",
   "language": "python",
   "name": "python3"
  },
  "language_info": {
   "codemirror_mode": {
    "name": "ipython",
    "version": 3
   },
   "file_extension": ".py",
   "mimetype": "text/x-python",
   "name": "python",
   "nbconvert_exporter": "python",
   "pygments_lexer": "ipython3",
   "version": "3.11.4"
  }
 },
 "nbformat": 4,
 "nbformat_minor": 2
}
