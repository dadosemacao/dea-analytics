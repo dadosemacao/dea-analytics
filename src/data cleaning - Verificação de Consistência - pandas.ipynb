{
 "cells": [
  {
   "cell_type": "code",
   "execution_count": 2,
   "metadata": {},
   "outputs": [],
   "source": [
    "import pandas as pd"
   ]
  },
  {
   "cell_type": "markdown",
   "metadata": {},
   "source": [
    "## Data Cleaning (Limpeza de Dados)\n",
    "---\n",
    "**As etapas típicas incluem:**\n",
    "- **Verificação de Consistência:**\n",
    "    - **Descrição:** Garantir que os dados estejam em conformidade com as regras de negócio."
   ]
  },
  {
   "cell_type": "code",
   "execution_count": 3,
   "metadata": {},
   "outputs": [
    {
     "name": "stdout",
     "output_type": "stream",
     "text": [
      "    Nome Data_Nascimento  Idade\n",
      "0   João      1990-01-15     32\n",
      "1  Maria      1985-05-20     39\n",
      "2   José      2000-12-31     20\n"
     ]
    }
   ],
   "source": [
    "# Exemplo de dados\n",
    "dados = {\n",
    "    'Nome': ['João', 'Maria', 'José'],\n",
    "    'Data_Nascimento': ['1990-01-15', '1985-05-20', '2000-12-31'],\n",
    "    'Idade': [32, 39, 20]\n",
    "}\n",
    "\n",
    "# Criando um DataFrame\n",
    "df = pd.DataFrame(dados)\n",
    "\n",
    "print(df)"
   ]
  },
  {
   "cell_type": "code",
   "execution_count": 4,
   "metadata": {},
   "outputs": [],
   "source": [
    "# Função para verificar se a idade é coerente com a data de nascimento\n",
    "def verificar_idade_coerente(row):\n",
    "    data_nascimento = pd.to_datetime(row['Data_Nascimento'])\n",
    "    idade_calculada = pd.Timestamp.now().year - data_nascimento.year\n",
    "    if row['Idade'] != idade_calculada:\n",
    "        return False\n",
    "    return True\n"
   ]
  },
  {
   "cell_type": "code",
   "execution_count": 5,
   "metadata": {},
   "outputs": [
    {
     "name": "stdout",
     "output_type": "stream",
     "text": [
      "    Nome Data_Nascimento  Idade  Idade_Coerente\n",
      "0   João      1990-01-15     32           False\n",
      "1  Maria      1985-05-20     39            True\n",
      "2   José      2000-12-31     20           False\n"
     ]
    }
   ],
   "source": [
    "# Aplicando a função de verificação nos dados\n",
    "df['Idade_Coerente'] = df.apply(verificar_idade_coerente, axis=1)\n",
    "\n",
    "# Exibindo o DataFrame com a nova coluna indicando a coerência da idade\n",
    "print(df)"
   ]
  }
 ],
 "metadata": {
  "kernelspec": {
   "display_name": "v-analytics",
   "language": "python",
   "name": "python3"
  },
  "language_info": {
   "codemirror_mode": {
    "name": "ipython",
    "version": 3
   },
   "file_extension": ".py",
   "mimetype": "text/x-python",
   "name": "python",
   "nbconvert_exporter": "python",
   "pygments_lexer": "ipython3",
   "version": "3.11.4"
  }
 },
 "nbformat": 4,
 "nbformat_minor": 2
}
