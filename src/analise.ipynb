{
 "cells": [
  {
   "cell_type": "markdown",
   "metadata": {},
   "source": [
    "**Média:**\n",
    "   - A média é a soma de todos os valores dividida pelo número de observações."
   ]
  },
  {
   "cell_type": "code",
   "execution_count": 1,
   "metadata": {},
   "outputs": [
    {
     "name": "stdout",
     "output_type": "stream",
     "text": [
      "Média: 30.0\n"
     ]
    }
   ],
   "source": [
    "lista = [10, 20, 30, 40, 50]\n",
    "media = sum(lista) / len(lista)\n",
    "print(\"Média:\", media)"
   ]
  },
  {
   "cell_type": "markdown",
   "metadata": {},
   "source": [
    "**Mediana:**\n",
    "   - A mediana é o valor que separa a metade superior da metade inferior de um conjunto de dados ordenado."
   ]
  },
  {
   "cell_type": "code",
   "execution_count": 2,
   "metadata": {},
   "outputs": [
    {
     "name": "stdout",
     "output_type": "stream",
     "text": [
      "Mediana: 30\n"
     ]
    }
   ],
   "source": [
    "lista = [10, 40, 30, 20, 50]\n",
    "lista_ordenada = sorted(lista)\n",
    "if len(lista_ordenada) % 2 == 0:\n",
    "    mediana = (lista_ordenada[len(lista_ordenada)//2 - 1] + lista_ordenada[len(lista_ordenada)//2]) / 2\n",
    "else:\n",
    "    mediana = lista_ordenada[len(lista_ordenada)//2]\n",
    "print(\"Mediana:\", mediana)"
   ]
  },
  {
   "cell_type": "markdown",
   "metadata": {},
   "source": [
    "**Moda:**\n",
    "   - A moda é o valor que aparece com maior frequência em um conjunto de dados."
   ]
  },
  {
   "cell_type": "code",
   "execution_count": 3,
   "metadata": {},
   "outputs": [
    {
     "name": "stdout",
     "output_type": "stream",
     "text": [
      "Moda: 30\n"
     ]
    }
   ],
   "source": [
    "from collections import Counter\n",
    "lista = [10, 20, 30, 30, 30, 30, 40, 50, 50, 50]\n",
    "contagem = Counter(lista)\n",
    "moda = contagem.most_common(1)[0][0]\n",
    "print(\"Moda:\", moda)"
   ]
  },
  {
   "cell_type": "markdown",
   "metadata": {},
   "source": [
    "**Variância:**\n",
    "   - A variância é uma medida de dispersão que descreve a extensão em que cada número em um conjunto de dados difere da média."
   ]
  },
  {
   "cell_type": "code",
   "execution_count": 4,
   "metadata": {},
   "outputs": [
    {
     "name": "stdout",
     "output_type": "stream",
     "text": [
      "Variância: 250\n"
     ]
    }
   ],
   "source": [
    "import statistics\n",
    "lista = [10, 20, 30, 40, 50]\n",
    "variancia = statistics.variance(lista)\n",
    "print(\"Variância:\", variancia)"
   ]
  },
  {
   "cell_type": "markdown",
   "metadata": {},
   "source": [
    "**Desvio Padrão:**\n",
    "   - O desvio padrão é uma medida de dispersão que indica o quanto os dados estão dispersos em relação à média."
   ]
  },
  {
   "cell_type": "code",
   "execution_count": 5,
   "metadata": {},
   "outputs": [
    {
     "name": "stdout",
     "output_type": "stream",
     "text": [
      "A raiz quadrada de 250 é: 15.811388300841896\n"
     ]
    }
   ],
   "source": [
    "import math\n",
    "\n",
    "numero = 250\n",
    "\n",
    "raiz_quadrada = math.sqrt(numero)\n",
    "\n",
    "print(\"A raiz quadrada de\", numero, \"é:\", raiz_quadrada)"
   ]
  },
  {
   "cell_type": "code",
   "execution_count": 6,
   "metadata": {},
   "outputs": [
    {
     "name": "stdout",
     "output_type": "stream",
     "text": [
      "Desvio Padrão: 15.811388300841896\n"
     ]
    }
   ],
   "source": [
    "import statistics\n",
    "lista = [10, 20, 30, 40, 50]\n",
    "desvio_padrao = statistics.stdev(lista)\n",
    "print(\"Desvio Padrão:\", desvio_padrao)"
   ]
  },
  {
   "cell_type": "markdown",
   "metadata": {},
   "source": [
    "# Problemas de Negócio\n",
    "* Identificar o porque da rotatividade de colaboradores (Desenvolvedor de Software)\n",
    "  "
   ]
  },
  {
   "cell_type": "code",
   "execution_count": 7,
   "metadata": {},
   "outputs": [],
   "source": [
    "import pandas as pd\n",
    "import seaborn as sns\n",
    "import matplotlib.pyplot as plt\n",
    "\n",
    "# Nome do arquivo CSV a ser lido\n",
    "nome_arquivo = \"..\\\\data\\\\cargos_e_salarios.csv\""
   ]
  },
  {
   "cell_type": "code",
   "execution_count": 8,
   "metadata": {},
   "outputs": [],
   "source": [
    "# Leitura do arquivo CSV usando pandas\n",
    "dados = pd.read_csv(nome_arquivo)\n"
   ]
  },
  {
   "cell_type": "code",
   "execution_count": 9,
   "metadata": {},
   "outputs": [],
   "source": [
    "# Calculando as estatísticas\n",
    "media = dados['Salario'].mean()\n",
    "mediana = dados['Salario'].median()\n",
    "min = dados['Salario'].min()\n",
    "max = dados['Salario'].max()\n",
    "moda = dados['Salario'].mode()[0]  # Pode haver múltiplas modas, portanto, pegamos apenas a primeira\n",
    "desvio_padrao = dados['Salario'].std()\n"
   ]
  },
  {
   "cell_type": "code",
   "execution_count": 10,
   "metadata": {},
   "outputs": [
    {
     "name": "stdout",
     "output_type": "stream",
     "text": [
      "Minímo dos salários: 5000\n",
      "Média dos salários: 7969.4915254237285\n",
      "Mediana dos salários: 8000.0\n",
      "Máximo dos salários: 19000\n",
      "Moda dos salários: 9000\n",
      "Desvio padrão dos salários: 2232.05270197272\n"
     ]
    }
   ],
   "source": [
    "# Exibindo as estatísticas\n",
    "print(\"Minímo dos salários:\", min)\n",
    "print(\"Média dos salários:\", media)\n",
    "print(\"Mediana dos salários:\", mediana)\n",
    "print(\"Máximo dos salários:\", max)\n",
    "print(\"Moda dos salários:\", moda)\n",
    "print(\"Desvio padrão dos salários:\", desvio_padrao)\n"
   ]
  },
  {
   "cell_type": "code",
   "execution_count": 11,
   "metadata": {},
   "outputs": [
    {
     "name": "stdout",
     "output_type": "stream",
     "text": [
      "                                          Salario\n",
      "Cargo                                            \n",
      "Analista de Dados                               6\n",
      "Desenvolvedor de Software                     213\n",
      "Engenheiro de Qualidade de Software (QA)        6\n",
      "Gerente de Projeto de Software                  3\n"
     ]
    }
   ],
   "source": [
    "print(dados[dados[\"Salario\"] < 10000].groupby(\"Cargo\").count())"
   ]
  },
  {
   "cell_type": "code",
   "execution_count": 12,
   "metadata": {},
   "outputs": [
    {
     "name": "stdout",
     "output_type": "stream",
     "text": [
      "                                          Salario\n",
      "Cargo                                            \n",
      "Analista de Dados                               7\n",
      "Arquiteto de Software                           4\n",
      "Engenheiro de Qualidade de Software (QA)        1\n",
      "Gerente de Projeto de Software                  4\n"
     ]
    }
   ],
   "source": [
    "print(dados[dados[\"Salario\"] > 10000].groupby(\"Cargo\").count())"
   ]
  },
  {
   "cell_type": "code",
   "execution_count": 13,
   "metadata": {},
   "outputs": [
    {
     "data": {
      "image/png": "[encoded data removed]",
      "text/plain": [
       "<Figure size 1000x600 with 1 Axes>"
      ]
     },
     "metadata": {},
     "output_type": "display_data"
    }
   ],
   "source": [
    "# Criar o histograma com Seaborn\n",
    "plt.figure(figsize=(10, 6))\n",
    "sns.histplot(data=dados, x='Salario', bins=10, kde=True)\n",
    "plt.title('Histograma de Salários')\n",
    "plt.xlabel('Salário')\n",
    "plt.ylabel('Frequência')\n",
    "plt.xticks(rotation=45)\n",
    "plt.tight_layout()\n",
    "plt.show()"
   ]
  }
 ],
 "metadata": {
  "kernelspec": {
   "display_name": "v-analytics",
   "language": "python",
   "name": "python3"
  },
  "language_info": {
   "codemirror_mode": {
    "name": "ipython",
    "version": 3
   },
   "file_extension": ".py",
   "mimetype": "text/x-python",
   "name": "python",
   "nbconvert_exporter": "python",
   "pygments_lexer": "ipython3",
   "version": "3.11.4"
  }
 },
 "nbformat": 4,
 "nbformat_minor": 2
}
