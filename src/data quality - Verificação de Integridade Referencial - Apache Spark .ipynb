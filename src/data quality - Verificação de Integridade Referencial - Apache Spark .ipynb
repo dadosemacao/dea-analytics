{
 "cells": [
  {
   "cell_type": "code",
   "execution_count": 19,
   "metadata": {},
   "outputs": [],
   "source": [
    "import os\n",
    "import findspark\n",
    "findspark.init(os.environ['SPARK_HOME'])\n",
    "\n",
    "from pyspark.sql import SparkSession\n",
    "from pyspark.sql.functions import lit, when"
   ]
  },
  {
   "cell_type": "code",
   "execution_count": 13,
   "metadata": {},
   "outputs": [],
   "source": [
    "# Inicializando a sessão do Spark\n",
    "spark = SparkSession.builder.appName(\"Exemplo\").getOrCreate()"
   ]
  },
  {
   "cell_type": "markdown",
   "metadata": {},
   "source": [
    "## Data Quality\n",
    "---"
   ]
  },
  {
   "cell_type": "markdown",
   "metadata": {},
   "source": [
    "- **Verificação de Integridade Referencial:** Garantir que as relações entre diferentes conjuntos de dados sejam consistentes.\n"
   ]
  },
  {
   "cell_type": "code",
   "execution_count": 14,
   "metadata": {},
   "outputs": [],
   "source": [
    "# Criando DataFrames de exemplo para clientes e pedidos\n",
    "data_clientes = [(\"Cliente1\", 1),\n",
    "                (\"Cliente2\", 2),\n",
    "                (\"Cliente3\", 3)]\n",
    "\n",
    "data_pedidos = [(\"Pedido1\", 1),\n",
    "                (\"Pedido2\", 2),\n",
    "                (\"Pedido3\", 4)]  # Introduzindo uma chave estrangeira inválida\n",
    "\n",
    "columns_clientes = [\"NomeCliente\", \"IDCliente\"]\n",
    "columns_pedidos = [\"DescricaoPedido\", \"IDCliente\"]\n",
    "\n",
    "df_clientes = spark.createDataFrame(data_clientes, columns_clientes)\n",
    "df_pedidos = spark.createDataFrame(data_pedidos, columns_pedidos)"
   ]
  },
  {
   "cell_type": "code",
   "execution_count": 15,
   "metadata": {},
   "outputs": [
    {
     "name": "stdout",
     "output_type": "stream",
     "text": [
      "+-----------+---------+\n",
      "|NomeCliente|IDCliente|\n",
      "+-----------+---------+\n",
      "|   Cliente1|        1|\n",
      "|   Cliente2|        2|\n",
      "|   Cliente3|        3|\n",
      "+-----------+---------+\n",
      "\n"
     ]
    }
   ],
   "source": [
    "df_clientes.show()"
   ]
  },
  {
   "cell_type": "code",
   "execution_count": 16,
   "metadata": {},
   "outputs": [
    {
     "name": "stdout",
     "output_type": "stream",
     "text": [
      "+---------------+---------+\n",
      "|DescricaoPedido|IDCliente|\n",
      "+---------------+---------+\n",
      "|        Pedido1|        1|\n",
      "|        Pedido2|        2|\n",
      "|        Pedido3|        4|\n",
      "+---------------+---------+\n",
      "\n"
     ]
    }
   ],
   "source": [
    "df_pedidos.show()"
   ]
  },
  {
   "cell_type": "code",
   "execution_count": 20,
   "metadata": {},
   "outputs": [
    {
     "name": "stdout",
     "output_type": "stream",
     "text": [
      "+---------------+---------+-----------+---------+----------------------+\n",
      "|DescricaoPedido|IDCliente|NomeCliente|IDCliente|IntegridadeReferencial|\n",
      "+---------------+---------+-----------+---------+----------------------+\n",
      "|        Pedido1|        1|   Cliente1|        1|                Válido|\n",
      "|        Pedido2|        2|   Cliente2|        2|                Válido|\n",
      "|        Pedido3|        4|       NULL|     NULL|              Inválido|\n",
      "+---------------+---------+-----------+---------+----------------------+\n",
      "\n"
     ]
    }
   ],
   "source": [
    "# Realizando a verificação de integridade referencial\n",
    "df_verificado = df_pedidos.join(df_clientes, df_pedidos[\"IDCliente\"] == df_clientes[\"IDCliente\"], \"left_outer\") \\\n",
    "    .withColumn(\"IntegridadeReferencial\",\n",
    "                when(df_clientes[\"IDCliente\"].isNotNull(), lit(\"Válido\"))\n",
    "                .otherwise(lit(\"Inválido\")))\n",
    "\n",
    "# Mostrando o DataFrame resultante\n",
    "df_verificado.show()"
   ]
  },
  {
   "cell_type": "code",
   "execution_count": null,
   "metadata": {},
   "outputs": [],
   "source": [
    "spark.stop()"
   ]
  }
 ],
 "metadata": {
  "kernelspec": {
   "display_name": "Python 3",
   "language": "python",
   "name": "python3"
  },
  "language_info": {
   "codemirror_mode": {
    "name": "ipython",
    "version": 3
   },
   "file_extension": ".py",
   "mimetype": "text/x-python",
   "name": "python",
   "nbconvert_exporter": "python",
   "pygments_lexer": "ipython3",
   "version": "3.11.4"
  }
 },
 "nbformat": 4,
 "nbformat_minor": 2
}
