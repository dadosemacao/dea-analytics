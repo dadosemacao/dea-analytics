{
 "cells": [
  {
   "cell_type": "markdown",
   "metadata": {},
   "source": [
    "## 4. Manipulação de arquivos: Leitura, escrita, manipulação de CSV, JSON"
   ]
  },
  {
   "cell_type": "markdown",
   "metadata": {},
   "source": [
    "### 1. **Leitura e Escrita de Arquivos de Texto:**"
   ]
  },
  {
   "cell_type": "code",
   "execution_count": 6,
   "metadata": {},
   "outputs": [],
   "source": [
    "# Escrita em arquivo de texto\n",
    "with open('arquivo.txt', 'w', encoding=\"utf-8\") as arquivo_escrita:\n",
    "    arquivo_escrita.write('Olá, mundo belo e colorido!')"
   ]
  },
  {
   "cell_type": "code",
   "execution_count": 7,
   "metadata": {},
   "outputs": [
    {
     "name": "stdout",
     "output_type": "stream",
     "text": [
      "Olá, mundo belo e colorido!\n"
     ]
    }
   ],
   "source": [
    "# Leitura de arquivo de texto\n",
    "with open('arquivo.txt', 'r', encoding=\"utf-8\") as arquivo_leitura:\n",
    "    print(arquivo_leitura.read())"
   ]
  },
  {
   "cell_type": "markdown",
   "metadata": {},
   "source": [
    "### 2. **Manipulação de Arquivos CSV:**"
   ]
  },
  {
   "cell_type": "code",
   "execution_count": 8,
   "metadata": {},
   "outputs": [],
   "source": [
    "import csv"
   ]
  },
  {
   "cell_type": "code",
   "execution_count": 10,
   "metadata": {},
   "outputs": [
    {
     "name": "stdout",
     "output_type": "stream",
     "text": [
      "[['Nome', 'Idade'], ['João', 30], ['Maria', 25]]\n"
     ]
    }
   ],
   "source": [
    "# Escrita em arquivo CSV\n",
    "dados = [['Nome', 'Idade'],\n",
    "        ['João', 30],\n",
    "        ['Maria', 25]]\n",
    "print(dados)"
   ]
  },
  {
   "cell_type": "code",
   "execution_count": 11,
   "metadata": {},
   "outputs": [],
   "source": [
    "with open('dados.csv', 'w', newline='', encoding=\"utf-8\") as arquivo_csv:\n",
    "    escritor_csv = csv.writer(arquivo_csv)\n",
    "    escritor_csv.writerows(dados)"
   ]
  },
  {
   "cell_type": "code",
   "execution_count": 12,
   "metadata": {},
   "outputs": [
    {
     "name": "stdout",
     "output_type": "stream",
     "text": [
      "['Nome', 'Idade']\n",
      "['João', '30']\n",
      "['Maria', '25']\n"
     ]
    }
   ],
   "source": [
    "# Leitura de arquivo CSV\n",
    "with open('dados.csv', 'r', encoding=\"utf-8\") as arquivo_csv:\n",
    "    leitor_csv = csv.reader(arquivo_csv)\n",
    "    for linha in leitor_csv:\n",
    "        print(linha)"
   ]
  },
  {
   "cell_type": "markdown",
   "metadata": {},
   "source": [
    "### 3. **Manipulação de Arquivos JSON:**"
   ]
  },
  {
   "cell_type": "code",
   "execution_count": 2,
   "metadata": {},
   "outputs": [],
   "source": [
    "import json"
   ]
  },
  {
   "cell_type": "code",
   "execution_count": 13,
   "metadata": {},
   "outputs": [],
   "source": [
    "# Escrita em arquivo JSON\n",
    "dados = {'nome': 'João', 'idade': 30, 'cidade': 'São Paulo'}"
   ]
  },
  {
   "cell_type": "code",
   "execution_count": 14,
   "metadata": {},
   "outputs": [],
   "source": [
    "with open('dados.json', 'w', encoding=\"utf-8\") as arquivo_json:\n",
    "    json.dump(dados, arquivo_json)"
   ]
  },
  {
   "cell_type": "code",
   "execution_count": 15,
   "metadata": {},
   "outputs": [
    {
     "name": "stdout",
     "output_type": "stream",
     "text": [
      "{'nome': 'João', 'idade': 30, 'cidade': 'São Paulo'}\n"
     ]
    }
   ],
   "source": [
    "# Leitura de arquivo JSON\n",
    "with open('dados.json', 'r', encoding=\"utf-8\") as arquivo_json:\n",
    "    dados_json = json.load(arquivo_json)\n",
    "    print(dados_json)"
   ]
  }
 ],
 "metadata": {
  "kernelspec": {
   "display_name": "v-analytics",
   "language": "python",
   "name": "python3"
  },
  "language_info": {
   "codemirror_mode": {
    "name": "ipython",
    "version": 3
   },
   "file_extension": ".py",
   "mimetype": "text/x-python",
   "name": "python",
   "nbconvert_exporter": "python",
   "pygments_lexer": "ipython3",
   "version": "3.11.4"
  }
 },
 "nbformat": 4,
 "nbformat_minor": 2
}
