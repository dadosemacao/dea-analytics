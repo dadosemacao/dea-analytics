{
 "cells": [
  {
   "cell_type": "code",
   "execution_count": 15,
   "metadata": {},
   "outputs": [],
   "source": [
    "import os\n",
    "import findspark\n",
    "findspark.init(os.environ['SPARK_HOME'])\n",
    "\n",
    "from pyspark.sql import SparkSession\n",
    "\n",
    "# Inicializando a sessão do Spark\n",
    "spark = SparkSession.builder.appName(\"Exemplo\").getOrCreate()"
   ]
  },
  {
   "cell_type": "markdown",
   "metadata": {},
   "source": [
    "## Text Cleaning and NLP\n",
    "---"
   ]
  },
  {
   "cell_type": "markdown",
   "metadata": {},
   "source": [
    "- **Remoção de Caracteres Especiais e Pontuação:** Eliminar caracteres especiais e pontuações desnecessárias que não contribuem para a análise.\n"
   ]
  },
  {
   "cell_type": "code",
   "execution_count": 16,
   "metadata": {},
   "outputs": [],
   "source": [
    "from pyspark.sql.functions import col, udf\n",
    "from pyspark.sql.types import StringType"
   ]
  },
  {
   "cell_type": "code",
   "execution_count": 17,
   "metadata": {},
   "outputs": [
    {
     "name": "stdout",
     "output_type": "stream",
     "text": [
      "DataFrame Original:\n",
      "+----------+-----------------------------------------------------------+\n",
      "|Documento |Texto                                                      |\n",
      "+----------+-----------------------------------------------------------+\n",
      "|Documento1|Este é um exemplo de texto com caracteres especiais: @# $%!|\n",
      "|Documento2|Outro texto com pontuação e números: 1234, 5678!           |\n",
      "+----------+-----------------------------------------------------------+\n",
      "\n"
     ]
    }
   ],
   "source": [
    "# Criando um DataFrame de exemplo com uma coluna de texto\n",
    "data = [(\"Documento1\", \"Este é um exemplo de texto com caracteres especiais: @# $%!\"),\n",
    "        (\"Documento2\", \"Outro texto com pontuação e números: 1234, 5678!\")]\n",
    "\n",
    "columns = [\"Documento\", \"Texto\"]\n",
    "\n",
    "df = spark.createDataFrame(data, columns)\n",
    "\n",
    "# Exibindo o DataFrame original\n",
    "print(\"DataFrame Original:\")\n",
    "df.show(truncate=False)"
   ]
  },
  {
   "cell_type": "code",
   "execution_count": 18,
   "metadata": {},
   "outputs": [],
   "source": [
    "# Definindo uma função de remoção de caracteres especiais e pontuações\n",
    "def remover_caracteres_especiais(texto):\n",
    "    return ''.join(c for c in texto if c.isalpha() or c.isspace())"
   ]
  },
  {
   "cell_type": "code",
   "execution_count": 19,
   "metadata": {},
   "outputs": [],
   "source": [
    "# Registrando a função como uma UDF (User Defined Function)\n",
    "udf_remover_caracteres_especiais = udf(remover_caracteres_especiais, StringType())"
   ]
  },
  {
   "cell_type": "code",
   "execution_count": 20,
   "metadata": {},
   "outputs": [],
   "source": [
    "# Aplicando a função para remover caracteres especiais\n",
    "df_limpo = df.withColumn(\"TextoLimpo\", udf_remover_caracteres_especiais(col(\"Texto\")))"
   ]
  },
  {
   "cell_type": "code",
   "execution_count": 21,
   "metadata": {},
   "outputs": [
    {
     "name": "stdout",
     "output_type": "stream",
     "text": [
      "\n",
      "DataFrame Após Remoção de Caracteres Especiais:\n",
      "+----------+-----------------------------------------------------------+-----------------------------------------------------+\n",
      "|Documento |Texto                                                      |TextoLimpo                                           |\n",
      "+----------+-----------------------------------------------------------+-----------------------------------------------------+\n",
      "|Documento1|Este é um exemplo de texto com caracteres especiais: @# $%!|Este é um exemplo de texto com caracteres especiais  |\n",
      "|Documento2|Outro texto com pontuação e números: 1234, 5678!           |Outro texto com pontuação e números                  |\n",
      "+----------+-----------------------------------------------------------+-----------------------------------------------------+\n",
      "\n"
     ]
    }
   ],
   "source": [
    "# Exibindo o DataFrame resultante\n",
    "print(\"\\nDataFrame Após Remoção de Caracteres Especiais:\")\n",
    "df_limpo.show(truncate=False)"
   ]
  },
  {
   "cell_type": "code",
   "execution_count": 14,
   "metadata": {},
   "outputs": [],
   "source": [
    "spark.stop()"
   ]
  }
 ],
 "metadata": {
  "kernelspec": {
   "display_name": "Python 3",
   "language": "python",
   "name": "python3"
  },
  "language_info": {
   "codemirror_mode": {
    "name": "ipython",
    "version": 3
   },
   "file_extension": ".py",
   "mimetype": "text/x-python",
   "name": "python",
   "nbconvert_exporter": "python",
   "pygments_lexer": "ipython3",
   "version": "3.11.4"
  }
 },
 "nbformat": 4,
 "nbformat_minor": 2
}
