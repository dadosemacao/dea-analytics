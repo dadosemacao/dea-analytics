{
 "cells": [
  {
   "cell_type": "code",
   "execution_count": 1,
   "metadata": {},
   "outputs": [],
   "source": [
    "import pandas as pd"
   ]
  },
  {
   "cell_type": "markdown",
   "metadata": {},
   "source": [
    "## Data Cleaning (Limpeza de Dados)\n",
    "---\n",
    "**As etapas típicas incluem:**\n",
    "- **Identificação de Valores Ausentes:**\n",
    "  - **Descrição:** Identificar e lidar com dados faltantes."
   ]
  },
  {
   "cell_type": "code",
   "execution_count": 4,
   "metadata": {},
   "outputs": [
    {
     "name": "stdout",
     "output_type": "stream",
     "text": [
      "    Nome  Idade Sexo\n",
      "0   João   25.0    M\n",
      "1  Maria    NaN    F\n",
      "2   José   30.0    M\n",
      "3    Ana   35.0    F\n",
      "4  Pedro    NaN    M\n"
     ]
    }
   ],
   "source": [
    "# Exemplo de dados\n",
    "dados = {\n",
    "    'Nome': ['João', 'Maria', 'José', 'Ana', 'Pedro'],\n",
    "    'Idade': [25, None, 30, 35, None],\n",
    "    'Sexo': ['M', 'F', 'M', 'F', 'M']\n",
    "}\n",
    "\n",
    "# Criando um DataFrame\n",
    "df = pd.DataFrame(dados)\n",
    "\n",
    "print(df)"
   ]
  },
  {
   "cell_type": "code",
   "execution_count": 5,
   "metadata": {},
   "outputs": [
    {
     "name": "stdout",
     "output_type": "stream",
     "text": [
      "    Nome  Idade Sexo\n",
      "0   João   25.0    M\n",
      "1  Maria   30.0    F\n",
      "2   José   30.0    M\n",
      "3    Ana   35.0    F\n",
      "4  Pedro   30.0    M\n"
     ]
    }
   ],
   "source": [
    "# Calculo de média das idades existentes\n",
    "media_idades = df[\"Idade\"].mean()\n",
    "\n",
    "df[\"Idade\"] = df[\"Idade\"].fillna(media_idades)\n",
    "\n",
    "print(df)"
   ]
  }
 ],
 "metadata": {
  "kernelspec": {
   "display_name": "v-analytics",
   "language": "python",
   "name": "python3"
  },
  "language_info": {
   "codemirror_mode": {
    "name": "ipython",
    "version": 3
   },
   "file_extension": ".py",
   "mimetype": "text/x-python",
   "name": "python",
   "nbconvert_exporter": "python",
   "pygments_lexer": "ipython3",
   "version": "3.11.4"
  }
 },
 "nbformat": 4,
 "nbformat_minor": 2
}
