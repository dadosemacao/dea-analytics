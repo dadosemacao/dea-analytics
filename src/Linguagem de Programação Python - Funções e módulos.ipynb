{
 "cells": [
  {
   "cell_type": "markdown",
   "metadata": {},
   "source": [
    "## 3. Funções e módulos: Definição, chamada, parâmetros, retorno."
   ]
  },
  {
   "cell_type": "markdown",
   "metadata": {},
   "source": [
    "### 1. **Funções:**"
   ]
  },
  {
   "cell_type": "code",
   "execution_count": 3,
   "metadata": {},
   "outputs": [],
   "source": [
    "# Definição de função\n",
    "def saudacao(nome):\n",
    "    return f\"Olá, {nome}!\""
   ]
  },
  {
   "cell_type": "code",
   "execution_count": 4,
   "metadata": {},
   "outputs": [
    {
     "name": "stdout",
     "output_type": "stream",
     "text": [
      "Olá, João!\n"
     ]
    }
   ],
   "source": [
    "# Chamada de função\n",
    "mensagem = saudacao(\"João\")\n",
    "print(mensagem)  # Saída: Olá, João!"
   ]
  },
  {
   "cell_type": "code",
   "execution_count": 5,
   "metadata": {},
   "outputs": [
    {
     "name": "stdout",
     "output_type": "stream",
     "text": [
      "Olá, João!\n"
     ]
    }
   ],
   "source": [
    "print(saudacao(\"João\"))  # Saída: Olá, João!"
   ]
  },
  {
   "cell_type": "code",
   "execution_count": 6,
   "metadata": {},
   "outputs": [],
   "source": [
    "# Função com parâmetro opcional\n",
    "def saudacao(nome, saudacao_padrao=\"Olá\"):\n",
    "    return f\"{saudacao_padrao}, {nome}!\""
   ]
  },
  {
   "cell_type": "code",
   "execution_count": 7,
   "metadata": {},
   "outputs": [
    {
     "name": "stdout",
     "output_type": "stream",
     "text": [
      "Bom dia, Maria!\n"
     ]
    }
   ],
   "source": [
    "mensagem = saudacao(\"Maria\", saudacao_padrao=\"Bom dia\")\n",
    "print(mensagem)  # Saída: Bom dia, Maria!"
   ]
  },
  {
   "cell_type": "code",
   "execution_count": 8,
   "metadata": {},
   "outputs": [
    {
     "name": "stdout",
     "output_type": "stream",
     "text": [
      "Bom dia, Maria!\n"
     ]
    }
   ],
   "source": [
    "print(saudacao(\"Maria\", saudacao_padrao=\"Bom dia\"))  # Saída: Bom dia, Maria!"
   ]
  },
  {
   "cell_type": "code",
   "execution_count": 9,
   "metadata": {},
   "outputs": [
    {
     "name": "stdout",
     "output_type": "stream",
     "text": [
      "Bom dia, Maria!\n"
     ]
    }
   ],
   "source": [
    "print(saudacao(\"Maria\", \"Bom dia\"))  # Saída: Bom dia, Maria!"
   ]
  },
  {
   "cell_type": "markdown",
   "metadata": {},
   "source": [
    "### 2. **Módulos:**"
   ]
  },
  {
   "cell_type": "code",
   "execution_count": 10,
   "metadata": {},
   "outputs": [],
   "source": [
    "# Programa principal: main.py\n",
    "import operacoes"
   ]
  },
  {
   "cell_type": "code",
   "execution_count": 11,
   "metadata": {},
   "outputs": [
    {
     "name": "stdout",
     "output_type": "stream",
     "text": [
      "resultado_soma: 8\n",
      "resultado_subtracao: 6\n"
     ]
    }
   ],
   "source": [
    "resultado_soma = operacoes.soma(5, 3)\n",
    "resultado_subtracao = operacoes.subtracao(10, 4)\n",
    "\n",
    "print(f\"resultado_soma: {resultado_soma}\")\n",
    "print(f\"resultado_subtracao: {resultado_subtracao}\")"
   ]
  },
  {
   "cell_type": "code",
   "execution_count": 12,
   "metadata": {},
   "outputs": [],
   "source": [
    "from operacoes import soma, subtracao"
   ]
  },
  {
   "cell_type": "code",
   "execution_count": 13,
   "metadata": {},
   "outputs": [
    {
     "name": "stdout",
     "output_type": "stream",
     "text": [
      "Soma: 8\n",
      "Subtração: 6\n"
     ]
    }
   ],
   "source": [
    "resultado_soma = soma(5, 3)\n",
    "resultado_subtracao = subtracao(10, 4)\n",
    "\n",
    "print(\"Soma:\", resultado_soma)  # Saída: Soma: 8\n",
    "print(\"Subtração:\", resultado_subtracao)  # Saída: Subtração: 6"
   ]
  },
  {
   "cell_type": "code",
   "execution_count": 16,
   "metadata": {},
   "outputs": [],
   "source": [
    "# Importando um módulo com alias\n",
    "import operacoes as ops"
   ]
  },
  {
   "cell_type": "code",
   "execution_count": 17,
   "metadata": {},
   "outputs": [
    {
     "name": "stdout",
     "output_type": "stream",
     "text": [
      "Soma: 8\n",
      "Subtração: 6\n"
     ]
    }
   ],
   "source": [
    "resultado_soma = ops.soma(5, 3)\n",
    "resultado_subtracao = ops.subtracao(10, 4)\n",
    "\n",
    "print(\"Soma:\", resultado_soma)  # Saída: Soma: 8\n",
    "print(\"Subtração:\", resultado_subtracao)  # Saída: Subtração: 6"
   ]
  }
 ],
 "metadata": {
  "kernelspec": {
   "display_name": "v-analytics",
   "language": "python",
   "name": "python3"
  },
  "language_info": {
   "codemirror_mode": {
    "name": "ipython",
    "version": 3
   },
   "file_extension": ".py",
   "mimetype": "text/x-python",
   "name": "python",
   "nbconvert_exporter": "python",
   "pygments_lexer": "ipython3",
   "version": "3.11.4"
  }
 },
 "nbformat": 4,
 "nbformat_minor": 2
}
