{
 "cells": [
  {
   "cell_type": "code",
   "execution_count": 2,
   "metadata": {},
   "outputs": [],
   "source": [
    "import pandas as pd"
   ]
  },
  {
   "cell_type": "markdown",
   "metadata": {},
   "source": [
    "## Data Cleaning (Limpeza de Dados)\n",
    "---\n",
    "**As etapas típicas incluem:**\n",
    "- **Tratamento de Outliers:**\n",
    "    - **Descrição:** Identificar e corrigir valores extremos que podem distorcer a análise."
   ]
  },
  {
   "cell_type": "code",
   "execution_count": 4,
   "metadata": {},
   "outputs": [
    {
     "name": "stdout",
     "output_type": "stream",
     "text": [
      "      Nome  Idade Sexo\n",
      "0     João     25    M\n",
      "1    Maria     30    F\n",
      "2     José     35    M\n",
      "3      Ana    200    F\n",
      "4    Pedro     45    M\n",
      "5  Marcelo     15    M\n"
     ]
    }
   ],
   "source": [
    "# Exemplo de dados\n",
    "dados = {\n",
    "    'Nome': ['João', 'Maria', 'José', 'Ana', 'Pedro', 'Marcelo'],\n",
    "    'Idade': [25, 30, 35, 200, 45, 15],  # Valor extremo: 200\n",
    "    'Sexo': ['M', 'F', 'M', 'F', 'M', 'M']\n",
    "}\n",
    "\n",
    "# Criando um DataFrame\n",
    "df = pd.DataFrame(dados)\n",
    "\n",
    "print(df)"
   ]
  },
  {
   "cell_type": "code",
   "execution_count": 5,
   "metadata": {},
   "outputs": [
    {
     "name": "stdout",
     "output_type": "stream",
     "text": [
      "      Nome  Idade Sexo\n",
      "0     João     25    M\n",
      "1    Maria     30    F\n",
      "2     José     35    M\n",
      "3      Ana     80    F\n",
      "4    Pedro     45    M\n",
      "5  Marcelo     18    M\n"
     ]
    }
   ],
   "source": [
    "# Definindo45  limites para a idade (por exemplo, 18 e 80)\n",
    "limite_inferior = 18\n",
    "limite_superior = 80\n",
    "\n",
    "df[\"Idade\"] = df[\"Idade\"].apply(lambda x: limite_inferior if x < limite_inferior else (limite_superior if x > limite_superior else x))\n",
    "\n",
    "print(df)"
   ]
  }
 ],
 "metadata": {
  "kernelspec": {
   "display_name": "v-analytics",
   "language": "python",
   "name": "python3"
  },
  "language_info": {
   "codemirror_mode": {
    "name": "ipython",
    "version": 3
   },
   "file_extension": ".py",
   "mimetype": "text/x-python",
   "name": "python",
   "nbconvert_exporter": "python",
   "pygments_lexer": "ipython3",
   "version": "3.11.4"
  }
 },
 "nbformat": 4,
 "nbformat_minor": 2
}
