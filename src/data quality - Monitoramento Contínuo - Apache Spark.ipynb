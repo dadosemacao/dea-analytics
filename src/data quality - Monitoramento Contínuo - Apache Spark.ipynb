{
 "cells": [
  {
   "cell_type": "code",
   "execution_count": 2,
   "metadata": {},
   "outputs": [],
   "source": [
    "import os\n",
    "import findspark\n",
    "findspark.init(os.environ['SPARK_HOME'])\n",
    "\n",
    "from pyspark.sql import SparkSession\n",
    "from pyspark.ml import Pipeline\n",
    "from pyspark.ml.feature import StringIndexer, VectorAssembler\n",
    "from pyspark.ml.clustering import KMeans"
   ]
  },
  {
   "cell_type": "code",
   "execution_count": 3,
   "metadata": {},
   "outputs": [],
   "source": [
    "# Inicializando a sessão do Spark\n",
    "spark = SparkSession.builder.appName(\"Exemplo\").getOrCreate()"
   ]
  },
  {
   "cell_type": "markdown",
   "metadata": {},
   "source": [
    "## Data Quality\n",
    "---"
   ]
  },
  {
   "cell_type": "markdown",
   "metadata": {},
   "source": [
    "- **Monitoramento Contínuo:** Implementar um sistema de monitoramento para manter a qualidade dos dados ao longo do tempo."
   ]
  },
  {
   "cell_type": "code",
   "execution_count": 4,
   "metadata": {},
   "outputs": [
    {
     "name": "stdout",
     "output_type": "stream",
     "text": [
      "+--------+-----+\n",
      "| Cliente|Valor|\n",
      "+--------+-----+\n",
      "|Cliente1|  100|\n",
      "|Cliente2|  -50|\n",
      "|Cliente3|   75|\n",
      "+--------+-----+\n",
      "\n"
     ]
    }
   ],
   "source": [
    "# Criando um DataFrame de exemplo com uma coluna de valores\n",
    "data = [(\"Cliente1\", 100),\n",
    "        (\"Cliente2\", -50),\n",
    "        (\"Cliente3\", 75)]\n",
    "\n",
    "columns = [\"Cliente\", \"Valor\"]\n",
    "\n",
    "df = spark.createDataFrame(data, columns)\n",
    "df.show()"
   ]
  },
  {
   "cell_type": "code",
   "execution_count": 5,
   "metadata": {},
   "outputs": [
    {
     "name": "stdout",
     "output_type": "stream",
     "text": [
      "+--------+-----+----------+\n",
      "| Cliente|Valor|prediction|\n",
      "+--------+-----+----------+\n",
      "|Cliente1|  100|         0|\n",
      "|Cliente2|  -50|         1|\n",
      "|Cliente3|   75|         0|\n",
      "+--------+-----+----------+\n",
      "\n"
     ]
    }
   ],
   "source": [
    "# Configurando pipeline para preprocessamento de dados\n",
    "indexer = StringIndexer(inputCol=\"Cliente\", outputCol=\"ClienteIndex\")\n",
    "assembler = VectorAssembler(inputCols=[\"Valor\"], outputCol=\"features\")\n",
    "kmeans = KMeans().setK(2).setSeed(123)\n",
    "\n",
    "pipeline = Pipeline(stages=[indexer, assembler, kmeans])\n",
    "\n",
    "# Fit do pipeline nos dados\n",
    "model = pipeline.fit(df)\n",
    "\n",
    "# Transformando os dados com o modelo\n",
    "df_transformed = model.transform(df)\n",
    "\n",
    "# Mostrando o DataFrame resultante\n",
    "df_transformed.select(\"Cliente\", \"Valor\", \"prediction\").show()"
   ]
  },
  {
   "cell_type": "code",
   "execution_count": 5,
   "metadata": {},
   "outputs": [],
   "source": [
    "spark.stop()"
   ]
  }
 ],
 "metadata": {
  "kernelspec": {
   "display_name": "Python 3",
   "language": "python",
   "name": "python3"
  },
  "language_info": {
   "codemirror_mode": {
    "name": "ipython",
    "version": 3
   },
   "file_extension": ".py",
   "mimetype": "text/x-python",
   "name": "python",
   "nbconvert_exporter": "python",
   "pygments_lexer": "ipython3",
   "version": "3.11.4"
  }
 },
 "nbformat": 4,
 "nbformat_minor": 2
}
