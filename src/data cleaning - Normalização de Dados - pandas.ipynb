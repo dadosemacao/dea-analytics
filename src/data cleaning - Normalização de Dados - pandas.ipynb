{
 "cells": [
  {
   "cell_type": "code",
   "execution_count": 2,
   "metadata": {},
   "outputs": [],
   "source": [
    "import pandas as pd"
   ]
  },
  {
   "cell_type": "markdown",
   "metadata": {},
   "source": [
    "## Data Cleaning (Limpeza de Dados)\n",
    "---\n",
    "**As etapas típicas incluem:**\n",
    "- **Normalização de Dados:**\n",
    "    - **Descrição:** Tornar os dados uniformes, especialmente em termos de unidades de medida."
   ]
  },
  {
   "cell_type": "code",
   "execution_count": 6,
   "metadata": {},
   "outputs": [
    {
     "name": "stdout",
     "output_type": "stream",
     "text": [
      "    Produto  Peso  Preço\n",
      "0      Maçã   100      2\n",
      "1    Banana   200      3\n",
      "2   Laranja   300      4\n",
      "3  Mandioca  3000     10\n"
     ]
    }
   ],
   "source": [
    "# Exemplo de dados\n",
    "dados = {\n",
    "    'Produto': ['Maçã', 'Banana', 'Laranja', 'Mandioca'],\n",
    "    'Peso': [100, 200, 300, 3000],  # Gramas\n",
    "    'Preço': [2, 3, 4, 10]\n",
    "}\n",
    "\n",
    "# Criando um DataFrame\n",
    "df = pd.DataFrame(dados)\n",
    "\n",
    "print(df)"
   ]
  },
  {
   "cell_type": "code",
   "execution_count": 4,
   "metadata": {},
   "outputs": [],
   "source": [
    "# Função para converter peso de gramas para quilogramas\n",
    "def gramas_para_quilogramas(peso_em_gramas):\n",
    "    return peso_em_gramas / 1000\n"
   ]
  },
  {
   "cell_type": "code",
   "execution_count": 7,
   "metadata": {},
   "outputs": [
    {
     "name": "stdout",
     "output_type": "stream",
     "text": [
      "    Produto  Peso  Preço\n",
      "0      Maçã   0.1      2\n",
      "1    Banana   0.2      3\n",
      "2   Laranja   0.3      4\n",
      "3  Mandioca   3.0     10\n"
     ]
    }
   ],
   "source": [
    "# Convertendo o peso para quilogramas\n",
    "df['Peso'] = df['Peso'].apply(gramas_para_quilogramas)\n",
    "\n",
    "# Exibindo o DataFrame após a conversão\n",
    "print(df)"
   ]
  }
 ],
 "metadata": {
  "kernelspec": {
   "display_name": "v-analytics",
   "language": "python",
   "name": "python3"
  },
  "language_info": {
   "codemirror_mode": {
    "name": "ipython",
    "version": 3
   },
   "file_extension": ".py",
   "mimetype": "text/x-python",
   "name": "python",
   "nbconvert_exporter": "python",
   "pygments_lexer": "ipython3",
   "version": "3.11.4"
  }
 },
 "nbformat": 4,
 "nbformat_minor": 2
}
