{
 "cells": [
  {
   "cell_type": "code",
   "execution_count": 1,
   "metadata": {},
   "outputs": [],
   "source": [
    "import os\n",
    "import findspark\n",
    "findspark.init(os.environ['SPARK_HOME'])\n",
    "\n",
    "from pyspark.sql import SparkSession\n",
    "\n",
    "# Inicializando a sessão do Spark\n",
    "spark = SparkSession.builder.appName(\"Exemplo\").getOrCreate()"
   ]
  },
  {
   "cell_type": "markdown",
   "metadata": {},
   "source": [
    "## Text Cleaning and NLP\n",
    "---"
   ]
  },
  {
   "cell_type": "markdown",
   "metadata": {},
   "source": [
    "- **Remoção de Stopwords:** Eliminar palavras comuns que não contribuem significativamente para a análise.\n"
   ]
  },
  {
   "cell_type": "code",
   "execution_count": 2,
   "metadata": {},
   "outputs": [],
   "source": [
    "import nltk\n",
    "from nltk.corpus import stopwords\n",
    "\n",
    "from pyspark.ml.feature import StopWordsRemover, RegexTokenizer\n",
    "from pyspark.sql.functions import col"
   ]
  },
  {
   "cell_type": "code",
   "execution_count": 3,
   "metadata": {},
   "outputs": [
    {
     "name": "stderr",
     "output_type": "stream",
     "text": [
      "[nltk_data] Downloading package stopwords to\n",
      "[nltk_data]     C:\\Users\\aview\\AppData\\Roaming\\nltk_data...\n",
      "[nltk_data]   Package stopwords is already up-to-date!\n"
     ]
    },
    {
     "data": {
      "text/plain": [
       "True"
      ]
     },
     "execution_count": 3,
     "metadata": {},
     "output_type": "execute_result"
    }
   ],
   "source": [
    "# Baixar a lista de stopwords em português do NLTK\n",
    "nltk.download('stopwords')"
   ]
  },
  {
   "cell_type": "code",
   "execution_count": 4,
   "metadata": {},
   "outputs": [],
   "source": [
    "# Obter a lista de stopwords em português\n",
    "stopwords_portugues = set(stopwords.words('portuguese'))"
   ]
  },
  {
   "cell_type": "code",
   "execution_count": 5,
   "metadata": {},
   "outputs": [
    {
     "name": "stdout",
     "output_type": "stream",
     "text": [
      "Total de stopwords em portugues: 207\n",
      "Lista de Stopwords em Português apenas 10:\n",
      "['fora', 'seu', 'com', 'teve', 'como', 'somos', 'houverá', 'mas', 'estávamos', 'houverei']\n"
     ]
    }
   ],
   "source": [
    "# Total de stopwords em portugues: \n",
    "print(f\"Total de stopwords em portugues: {len(stopwords_portugues)}\")\n",
    "\n",
    "# Exibir as primeiras 10 stopwords\n",
    "print(\"Lista de Stopwords em Português apenas 10:\")\n",
    "print(list(stopwords_portugues)[:10])"
   ]
  },
  {
   "cell_type": "code",
   "execution_count": 8,
   "metadata": {},
   "outputs": [
    {
     "name": "stdout",
     "output_type": "stream",
     "text": [
      "DataFrame Original:\n",
      "+----------+---------------------------------------+\n",
      "|Documento |Texto                                  |\n",
      "+----------+---------------------------------------+\n",
      "|Documento1|O processamento de texto é interessante|\n",
      "|Documento2|Outro exemplo de tokenização           |\n",
      "+----------+---------------------------------------+\n",
      "\n"
     ]
    }
   ],
   "source": [
    "# Criando um DataFrame de exemplo com uma coluna de texto\n",
    "data = [(\"Documento1\", \"O processamento de texto é interessante\"),\n",
    "        (\"Documento2\", \"Outro exemplo de tokenização\")]\n",
    "\n",
    "columns = [\"Documento\", \"Texto\"]\n",
    "\n",
    "df = spark.createDataFrame(data, columns)\n",
    "\n",
    "# Exibindo o DataFrame original\n",
    "print(\"DataFrame Original:\")\n",
    "df.show(truncate=False)"
   ]
  },
  {
   "cell_type": "code",
   "execution_count": 9,
   "metadata": {},
   "outputs": [
    {
     "name": "stdout",
     "output_type": "stream",
     "text": [
      "\n",
      "DataFrame Após Tokenização:\n",
      "+----------+-------------------------------------------+\n",
      "|Documento |Tokens                                     |\n",
      "+----------+-------------------------------------------+\n",
      "|Documento1|[o, processamento, de, texto, interessante]|\n",
      "|Documento2|[outro, exemplo, de, tokeniza, o]          |\n",
      "+----------+-------------------------------------------+\n",
      "\n"
     ]
    }
   ],
   "source": [
    "# Configurando o tokenizador\n",
    "tokenizer = RegexTokenizer(inputCol=\"Texto\", outputCol=\"Tokens\", pattern=\"\\\\W\")\n",
    "\n",
    "# Aplicando a tokenização\n",
    "df_tokenizado = tokenizer.transform(df)\n",
    "\n",
    "# Exibindo o DataFrame resultante\n",
    "print(\"\\nDataFrame Após Tokenização:\")\n",
    "df_tokenizado.select(\"Documento\", \"Tokens\").show(truncate=False)"
   ]
  },
  {
   "cell_type": "code",
   "execution_count": 10,
   "metadata": {},
   "outputs": [],
   "source": [
    "# Configurando o remover de stopwords\n",
    "stopwords_remover = StopWordsRemover(inputCol=\"Tokens\", outputCol=\"TextoSemStopwords\", stopWords=list(stopwords_portugues))"
   ]
  },
  {
   "cell_type": "code",
   "execution_count": 11,
   "metadata": {},
   "outputs": [],
   "source": [
    "# Aplicando a remoção de stopwords (note que você deve ter a coluna \"Tokens\" do exemplo anterior)\n",
    "df_sem_stopwords = stopwords_remover.transform(df_tokenizado)"
   ]
  },
  {
   "cell_type": "code",
   "execution_count": 12,
   "metadata": {},
   "outputs": [
    {
     "name": "stdout",
     "output_type": "stream",
     "text": [
      "\n",
      "DataFrame Após Remoção de Stopwords:\n",
      "+----------+------------------------------------+\n",
      "|Documento |TextoSemStopwords                   |\n",
      "+----------+------------------------------------+\n",
      "|Documento1|[processamento, texto, interessante]|\n",
      "|Documento2|[outro, exemplo, tokeniza]          |\n",
      "+----------+------------------------------------+\n",
      "\n"
     ]
    }
   ],
   "source": [
    "# Exibindo o DataFrame resultante\n",
    "print(\"\\nDataFrame Após Remoção de Stopwords:\")\n",
    "df_sem_stopwords.select(\"Documento\", \"TextoSemStopwords\").show(truncate=False)"
   ]
  },
  {
   "cell_type": "code",
   "execution_count": 36,
   "metadata": {},
   "outputs": [],
   "source": [
    "spark.stop()"
   ]
  }
 ],
 "metadata": {
  "kernelspec": {
   "display_name": "Python 3",
   "language": "python",
   "name": "python3"
  },
  "language_info": {
   "codemirror_mode": {
    "name": "ipython",
    "version": 3
   },
   "file_extension": ".py",
   "mimetype": "text/x-python",
   "name": "python",
   "nbconvert_exporter": "python",
   "pygments_lexer": "ipython3",
   "version": "3.11.4"
  }
 },
 "nbformat": 4,
 "nbformat_minor": 2
}
