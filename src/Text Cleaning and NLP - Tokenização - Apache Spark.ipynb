{
 "cells": [
  {
   "cell_type": "code",
   "execution_count": 1,
   "metadata": {},
   "outputs": [],
   "source": [
    "import os\n",
    "import findspark\n",
    "findspark.init(os.environ['SPARK_HOME'])\n",
    "\n",
    "from pyspark.sql import SparkSession\n",
    "\n",
    "# Inicializando a sessão do Spark\n",
    "spark = SparkSession.builder.appName(\"Exemplo\").getOrCreate()"
   ]
  },
  {
   "cell_type": "markdown",
   "metadata": {},
   "source": [
    "## Text Cleaning and NLP\n",
    "---"
   ]
  },
  {
   "cell_type": "markdown",
   "metadata": {},
   "source": [
    "- **Tokenização:** Dividir o texto em unidades menores, como palavras ou frases.\n"
   ]
  },
  {
   "cell_type": "code",
   "execution_count": 4,
   "metadata": {},
   "outputs": [],
   "source": [
    "from pyspark.ml.feature import RegexTokenizer\n",
    "from pyspark.sql.functions import col"
   ]
  },
  {
   "cell_type": "code",
   "execution_count": 5,
   "metadata": {},
   "outputs": [
    {
     "name": "stdout",
     "output_type": "stream",
     "text": [
      "DataFrame Original:\n",
      "+----------+---------------------------------------+\n",
      "|Documento |Texto                                  |\n",
      "+----------+---------------------------------------+\n",
      "|Documento1|O processamento de texto é interessante|\n",
      "|Documento2|Outro exemplo de tokenização           |\n",
      "+----------+---------------------------------------+\n",
      "\n"
     ]
    }
   ],
   "source": [
    "# Criando um DataFrame de exemplo com uma coluna de texto\n",
    "data = [(\"Documento1\", \"O processamento de texto é interessante\"),\n",
    "        (\"Documento2\", \"Outro exemplo de tokenização\")]\n",
    "\n",
    "columns = [\"Documento\", \"Texto\"]\n",
    "\n",
    "df = spark.createDataFrame(data, columns)\n",
    "\n",
    "# Exibindo o DataFrame original\n",
    "print(\"DataFrame Original:\")\n",
    "df.show(truncate=False)"
   ]
  },
  {
   "cell_type": "code",
   "execution_count": 6,
   "metadata": {},
   "outputs": [],
   "source": [
    "# Configurando o tokenizador\n",
    "tokenizer = RegexTokenizer(inputCol=\"Texto\", outputCol=\"Tokens\", pattern=\"\\\\W\")"
   ]
  },
  {
   "cell_type": "code",
   "execution_count": 7,
   "metadata": {},
   "outputs": [],
   "source": [
    "# Aplicando a tokenização\n",
    "df_tokenizado = tokenizer.transform(df)"
   ]
  },
  {
   "cell_type": "code",
   "execution_count": 8,
   "metadata": {},
   "outputs": [
    {
     "name": "stdout",
     "output_type": "stream",
     "text": [
      "\n",
      "DataFrame Após Tokenização:\n",
      "+----------+-------------------------------------------+\n",
      "|Documento |Tokens                                     |\n",
      "+----------+-------------------------------------------+\n",
      "|Documento1|[o, processamento, de, texto, interessante]|\n",
      "|Documento2|[outro, exemplo, de, tokeniza, o]          |\n",
      "+----------+-------------------------------------------+\n",
      "\n"
     ]
    }
   ],
   "source": [
    "# Exibindo o DataFrame resultante\n",
    "print(\"\\nDataFrame Após Tokenização:\")\n",
    "df_tokenizado.select(\"Documento\", \"Tokens\").show(truncate=False)"
   ]
  },
  {
   "cell_type": "code",
   "execution_count": 9,
   "metadata": {},
   "outputs": [],
   "source": [
    "spark.stop()"
   ]
  }
 ],
 "metadata": {
  "kernelspec": {
   "display_name": "Python 3",
   "language": "python",
   "name": "python3"
  },
  "language_info": {
   "codemirror_mode": {
    "name": "ipython",
    "version": 3
   },
   "file_extension": ".py",
   "mimetype": "text/x-python",
   "name": "python",
   "nbconvert_exporter": "python",
   "pygments_lexer": "ipython3",
   "version": "3.11.4"
  }
 },
 "nbformat": 4,
 "nbformat_minor": 2
}
