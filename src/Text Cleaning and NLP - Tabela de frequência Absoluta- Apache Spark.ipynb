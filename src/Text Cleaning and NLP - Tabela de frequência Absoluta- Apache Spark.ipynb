{
 "cells": [
  {
   "cell_type": "code",
   "execution_count": 6,
   "metadata": {},
   "outputs": [],
   "source": [
    "import os\n",
    "import findspark\n",
    "findspark.init(os.environ['SPARK_HOME'])\n",
    "\n",
    "from pyspark.sql import SparkSession\n",
    "\n",
    "# Inicializando a sessão do Spark\n",
    "spark = SparkSession.builder.appName(\"Exemplo\").getOrCreate()"
   ]
  },
  {
   "cell_type": "markdown",
   "metadata": {},
   "source": [
    "## Text Cleaning and NLP\n",
    "---"
   ]
  },
  {
   "cell_type": "markdown",
   "metadata": {},
   "source": [
    "- **Tabela de frequência:**\n",
    "* Relatica\n",
    "* **Absoluta**"
   ]
  },
  {
   "cell_type": "code",
   "execution_count": 7,
   "metadata": {},
   "outputs": [],
   "source": [
    "import nltk\n",
    "from nltk.corpus import stopwords\n",
    "\n",
    "\n",
    "from pyspark.ml.feature import Tokenizer, StopWordsRemover\n",
    "from pyspark.sql.functions import explode, col"
   ]
  },
  {
   "cell_type": "code",
   "execution_count": 8,
   "metadata": {},
   "outputs": [
    {
     "name": "stderr",
     "output_type": "stream",
     "text": [
      "[nltk_data] Downloading package stopwords to\n",
      "[nltk_data]     C:\\Users\\aview\\AppData\\Roaming\\nltk_data...\n",
      "[nltk_data]   Package stopwords is already up-to-date!\n"
     ]
    },
    {
     "data": {
      "text/plain": [
       "True"
      ]
     },
     "execution_count": 8,
     "metadata": {},
     "output_type": "execute_result"
    }
   ],
   "source": [
    "# Baixar a lista de stopwords em português do NLTK\n",
    "nltk.download('stopwords')"
   ]
  },
  {
   "cell_type": "code",
   "execution_count": 9,
   "metadata": {},
   "outputs": [],
   "source": [
    "# Obter a lista de stopwords em português\n",
    "stopwords_portugues = set(stopwords.words('portuguese'))"
   ]
  },
  {
   "cell_type": "code",
   "execution_count": 10,
   "metadata": {},
   "outputs": [
    {
     "name": "stdout",
     "output_type": "stream",
     "text": [
      "Total de stopwords em portugues: 207\n"
     ]
    }
   ],
   "source": [
    "# Total de stopwords em portugues: \n",
    "print(f\"Total de stopwords em portugues: {len(stopwords_portugues)}\")"
   ]
  },
  {
   "cell_type": "code",
   "execution_count": 12,
   "metadata": {},
   "outputs": [
    {
     "name": "stdout",
     "output_type": "stream",
     "text": [
      "+------------------------------+--------+----------------------+-----+-------------------+-------------------+------------------+--------------+---------------+----------+\n",
      "|EN_RUA                        |NR_CEP  |NM_CIDADE             |SG_UF|NM_BAIRRO          |DS_LATITUDE        |DS_LONGITUDE      |CPF           |NOME           |CD_CLIENTE|\n",
      "+------------------------------+--------+----------------------+-----+-------------------+-------------------+------------------+--------------+---------------+----------+\n",
      "|RUA EXISTENTE                 |09340060|MAUA                  |SP   |VILA ANA           |NULL               |NULL              |595.958.963-00|Beatriz Silva  |0         |\n",
      "|AVENIDA DOS TRABALHADORES     |13338050|INDAIATUBA            |SP   |VILA CASTELO BRANCO|-23.0887183        |-47.198916        |695.935.479-00|Maria Ferreira |1         |\n",
      "|R OTAVIO DE MORAIS            |05351080|S PAULO               |SP   |C S FRANCISCO      |NULL               |NULL              |223.379.779-50|Carlos Ferreira|2         |\n",
      "|RUA MANOEL JOSE DA COSTA      |14750000|PITANGUEIRAS          |SP   |JD DAS PITANGUEIRAS|-21.006434729699357|-48.22136223560801|202.384.810-50|Ana Lima       |3         |\n",
      "|RUA ORLANDO MODESTO           |13830000|SANTO ANTONIO DE POSSE|SP   |BELA VISTA II      |-22.612450609552656|-46.91200484124755|125.905.486-10|Ana Ribeiro    |4         |\n",
      "|LAVINIA                       |07161440|GUARULHOS             |SP   |S? JO?             |-23.3910248439     |-46.4352081291    |494.251.572-60|Maria Pereira  |5         |\n",
      "|R DOM PEDRO I                 |16900003|ANDRADINA             |SP   |CENTRO             |NULL               |NULL              |259.842.526-00|José Almeida   |6         |\n",
      "|RUA AUGUSTA COSTA BATISTELLI  |05814220|SAO PAULO             |SP   |JD IBIRAPUERA      |-23.6595768        |-46.7343904       |487.145.283-20|Carlos Pereira |7         |\n",
      "|R MARIA FERNANDA              |06516010|SANTANA DE PARNAIBA   |SP   |C M INES           |-23.4813198        |-46.88952549999999|155.832.615-40|Carlos Ferreira|8         |\n",
      "|RUA ADEMAR CARDOSO DE OLIVEIRA|15880000|TABAPUA               |SP   |PARQUE INDUSTRIAL  |NULL               |NULL              |446.803.959-00|Pedro Souza    |9         |\n",
      "|R MATHEUS FERREIRA DE CAMARGO |13145380|PAULINIA              |SP   |EDITH CAMPOS       |-22.7463187        |-47.1804117       |714.834.747-50|Clara Ferreira |10        |\n",
      "|RUA ROMILDO IZAIAS NETO       |06236030|OSASCO                |SP   |JD PIRATININGA     |NULL               |NULL              |276.424.898-90|João Almeida   |11        |\n",
      "|TRAVESSA SÃO FRANCISCO XAVIER|12211120|SAO JOSE DOS CAMPOS   |SP   |SANTANA            |-23.1594441        |-45.8917442       |083.439.919-90|Laura Santos   |13        |\n",
      "|R JOAO MELLO REIS             |08830120|MOGI CRUZES           |SP   |JD S PEDRO         |NULL               |NULL              |539.726.098-30|Carlos Costa   |14        |\n",
      "|RUA JOSÃ DE ALENCAR          |13566000|SAO CARLOS            |SP   |VILA COSTA DO SOL  |-22.0028176        |-47.8898495       |171.542.893-50|Carlos Pereira |15        |\n",
      "|FAZENDA SANTA ELIZA           |13315000|CABREUVA              |SP   |PINHAL             |-23.28364017283716 |-47.12666408428345|152.815.313-80|João Ribeiro   |16        |\n",
      "|R HUGO DE CAMPOS MARTINS      |13606371|ARARAS                |SP   |JD J OMETTO II     |NULL               |NULL              |613.225.269-00|Clara Oliveira |17        |\n",
      "|ARREIO DE PRATA               |08225540|SAO PAULO             |SP   |CJ HAB A E CARVALHO|NULL               |NULL              |454.769.482-60|Beatriz Santos |18        |\n",
      "|RUA MONCAO                    |07170280|GUARULHOS             |SP   |JD PRESIDENTE DUTRA|NULL               |NULL              |342.002.512-20|Pedro Oliveira |19        |\n",
      "|FAZENDA XOROROCA              |12700000|CRUZEIRO              |SP   |ROD  PRES  DUTRA   |NULL               |NULL              |557.702.905-80|Pedro Lima     |20        |\n",
      "+------------------------------+--------+----------------------+-----+-------------------+-------------------+------------------+--------------+---------------+----------+\n",
      "only showing top 20 rows\n",
      "\n"
     ]
    }
   ],
   "source": [
    "inputPath = \"..\\data\\clientes.csv\"\n",
    "\n",
    "# Carregue os dados\n",
    "data_cliente = spark \\\n",
    "        .read\\\n",
    "        .format(\"csv\")\\\n",
    "        .option(\"inferSchema\", \"true\")\\\n",
    "        .option(\"header\", \"true\")\\\n",
    "        .option(\"encoding\", \"UTF-8\")\\\n",
    "        .csv(inputPath) \\\n",
    "        \n",
    "data = data_cliente.filter(\"NM_CIDADE IS NOT NULL\")\n",
    "data.show(truncate=False)"
   ]
  },
  {
   "cell_type": "code",
   "execution_count": 13,
   "metadata": {},
   "outputs": [
    {
     "name": "stdout",
     "output_type": "stream",
     "text": [
      "+------------------------------+--------+----------------------+-----+-------------------+-------------------+------------------+--------------+---------------+----------+---------------------------+\n",
      "|EN_RUA                        |NR_CEP  |NM_CIDADE             |SG_UF|NM_BAIRRO          |DS_LATITUDE        |DS_LONGITUDE      |CPF           |NOME           |CD_CLIENTE|palavras                   |\n",
      "+------------------------------+--------+----------------------+-----+-------------------+-------------------+------------------+--------------+---------------+----------+---------------------------+\n",
      "|RUA EXISTENTE                 |09340060|MAUA                  |SP   |VILA ANA           |NULL               |NULL              |595.958.963-00|Beatriz Silva  |0         |[maua]                     |\n",
      "|AVENIDA DOS TRABALHADORES     |13338050|INDAIATUBA            |SP   |VILA CASTELO BRANCO|-23.0887183        |-47.198916        |695.935.479-00|Maria Ferreira |1         |[indaiatuba]               |\n",
      "|R OTAVIO DE MORAIS            |05351080|S PAULO               |SP   |C S FRANCISCO      |NULL               |NULL              |223.379.779-50|Carlos Ferreira|2         |[s, paulo]                 |\n",
      "|RUA MANOEL JOSE DA COSTA      |14750000|PITANGUEIRAS          |SP   |JD DAS PITANGUEIRAS|-21.006434729699357|-48.22136223560801|202.384.810-50|Ana Lima       |3         |[pitangueiras]             |\n",
      "|RUA ORLANDO MODESTO           |13830000|SANTO ANTONIO DE POSSE|SP   |BELA VISTA II      |-22.612450609552656|-46.91200484124755|125.905.486-10|Ana Ribeiro    |4         |[santo, antonio, de, posse]|\n",
      "|LAVINIA                       |07161440|GUARULHOS             |SP   |S? JO?             |-23.3910248439     |-46.4352081291    |494.251.572-60|Maria Pereira  |5         |[guarulhos]                |\n",
      "|R DOM PEDRO I                 |16900003|ANDRADINA             |SP   |CENTRO             |NULL               |NULL              |259.842.526-00|José Almeida   |6         |[andradina]                |\n",
      "|RUA AUGUSTA COSTA BATISTELLI  |05814220|SAO PAULO             |SP   |JD IBIRAPUERA      |-23.6595768        |-46.7343904       |487.145.283-20|Carlos Pereira |7         |[sao, paulo]               |\n",
      "|R MARIA FERNANDA              |06516010|SANTANA DE PARNAIBA   |SP   |C M INES           |-23.4813198        |-46.88952549999999|155.832.615-40|Carlos Ferreira|8         |[santana, de, parnaiba]    |\n",
      "|RUA ADEMAR CARDOSO DE OLIVEIRA|15880000|TABAPUA               |SP   |PARQUE INDUSTRIAL  |NULL               |NULL              |446.803.959-00|Pedro Souza    |9         |[tabapua]                  |\n",
      "|R MATHEUS FERREIRA DE CAMARGO |13145380|PAULINIA              |SP   |EDITH CAMPOS       |-22.7463187        |-47.1804117       |714.834.747-50|Clara Ferreira |10        |[paulinia]                 |\n",
      "|RUA ROMILDO IZAIAS NETO       |06236030|OSASCO                |SP   |JD PIRATININGA     |NULL               |NULL              |276.424.898-90|João Almeida   |11        |[osasco]                   |\n",
      "|TRAVESSA SÃO FRANCISCO XAVIER|12211120|SAO JOSE DOS CAMPOS   |SP   |SANTANA            |-23.1594441        |-45.8917442       |083.439.919-90|Laura Santos   |13        |[sao, jose, dos, campos]   |\n",
      "|R JOAO MELLO REIS             |08830120|MOGI CRUZES           |SP   |JD S PEDRO         |NULL               |NULL              |539.726.098-30|Carlos Costa   |14        |[mogi, cruzes]             |\n",
      "|RUA JOSÃ DE ALENCAR          |13566000|SAO CARLOS            |SP   |VILA COSTA DO SOL  |-22.0028176        |-47.8898495       |171.542.893-50|Carlos Pereira |15        |[sao, carlos]              |\n",
      "|FAZENDA SANTA ELIZA           |13315000|CABREUVA              |SP   |PINHAL             |-23.28364017283716 |-47.12666408428345|152.815.313-80|João Ribeiro   |16        |[cabreuva]                 |\n",
      "|R HUGO DE CAMPOS MARTINS      |13606371|ARARAS                |SP   |JD J OMETTO II     |NULL               |NULL              |613.225.269-00|Clara Oliveira |17        |[araras]                   |\n",
      "|ARREIO DE PRATA               |08225540|SAO PAULO             |SP   |CJ HAB A E CARVALHO|NULL               |NULL              |454.769.482-60|Beatriz Santos |18        |[sao, paulo]               |\n",
      "|RUA MONCAO                    |07170280|GUARULHOS             |SP   |JD PRESIDENTE DUTRA|NULL               |NULL              |342.002.512-20|Pedro Oliveira |19        |[guarulhos]                |\n",
      "|FAZENDA XOROROCA              |12700000|CRUZEIRO              |SP   |ROD  PRES  DUTRA   |NULL               |NULL              |557.702.905-80|Pedro Lima     |20        |[cruzeiro]                 |\n",
      "+------------------------------+--------+----------------------+-----+-------------------+-------------------+------------------+--------------+---------------+----------+---------------------------+\n",
      "only showing top 20 rows\n",
      "\n"
     ]
    }
   ],
   "source": [
    "# Tokenize os textos\n",
    "tokenizer = Tokenizer(inputCol=\"NM_CIDADE\", outputCol=\"palavras\")\n",
    "tokenized = tokenizer.transform(data)\n",
    "tokenized.show(truncate=False)"
   ]
  },
  {
   "cell_type": "code",
   "execution_count": 14,
   "metadata": {},
   "outputs": [
    {
     "name": "stdout",
     "output_type": "stream",
     "text": [
      "\n",
      "DataFrame Após Remoção de Stopwords:\n",
      "+------------------------------+--------+----------------------+-----+-------------------+-------------------+------------------+--------------+---------------+----------+---------------------------+-----------------------+\n",
      "|EN_RUA                        |NR_CEP  |NM_CIDADE             |SG_UF|NM_BAIRRO          |DS_LATITUDE        |DS_LONGITUDE      |CPF           |NOME           |CD_CLIENTE|palavras                   |TextoSemStopwords      |\n",
      "+------------------------------+--------+----------------------+-----+-------------------+-------------------+------------------+--------------+---------------+----------+---------------------------+-----------------------+\n",
      "|RUA EXISTENTE                 |09340060|MAUA                  |SP   |VILA ANA           |NULL               |NULL              |595.958.963-00|Beatriz Silva  |0         |[maua]                     |[maua]                 |\n",
      "|AVENIDA DOS TRABALHADORES     |13338050|INDAIATUBA            |SP   |VILA CASTELO BRANCO|-23.0887183        |-47.198916        |695.935.479-00|Maria Ferreira |1         |[indaiatuba]               |[indaiatuba]           |\n",
      "|R OTAVIO DE MORAIS            |05351080|S PAULO               |SP   |C S FRANCISCO      |NULL               |NULL              |223.379.779-50|Carlos Ferreira|2         |[s, paulo]                 |[s, paulo]             |\n",
      "|RUA MANOEL JOSE DA COSTA      |14750000|PITANGUEIRAS          |SP   |JD DAS PITANGUEIRAS|-21.006434729699357|-48.22136223560801|202.384.810-50|Ana Lima       |3         |[pitangueiras]             |[pitangueiras]         |\n",
      "|RUA ORLANDO MODESTO           |13830000|SANTO ANTONIO DE POSSE|SP   |BELA VISTA II      |-22.612450609552656|-46.91200484124755|125.905.486-10|Ana Ribeiro    |4         |[santo, antonio, de, posse]|[santo, antonio, posse]|\n",
      "|LAVINIA                       |07161440|GUARULHOS             |SP   |S? JO?             |-23.3910248439     |-46.4352081291    |494.251.572-60|Maria Pereira  |5         |[guarulhos]                |[guarulhos]            |\n",
      "|R DOM PEDRO I                 |16900003|ANDRADINA             |SP   |CENTRO             |NULL               |NULL              |259.842.526-00|José Almeida   |6         |[andradina]                |[andradina]            |\n",
      "|RUA AUGUSTA COSTA BATISTELLI  |05814220|SAO PAULO             |SP   |JD IBIRAPUERA      |-23.6595768        |-46.7343904       |487.145.283-20|Carlos Pereira |7         |[sao, paulo]               |[sao, paulo]           |\n",
      "|R MARIA FERNANDA              |06516010|SANTANA DE PARNAIBA   |SP   |C M INES           |-23.4813198        |-46.88952549999999|155.832.615-40|Carlos Ferreira|8         |[santana, de, parnaiba]    |[santana, parnaiba]    |\n",
      "|RUA ADEMAR CARDOSO DE OLIVEIRA|15880000|TABAPUA               |SP   |PARQUE INDUSTRIAL  |NULL               |NULL              |446.803.959-00|Pedro Souza    |9         |[tabapua]                  |[tabapua]              |\n",
      "|R MATHEUS FERREIRA DE CAMARGO |13145380|PAULINIA              |SP   |EDITH CAMPOS       |-22.7463187        |-47.1804117       |714.834.747-50|Clara Ferreira |10        |[paulinia]                 |[paulinia]             |\n",
      "|RUA ROMILDO IZAIAS NETO       |06236030|OSASCO                |SP   |JD PIRATININGA     |NULL               |NULL              |276.424.898-90|João Almeida   |11        |[osasco]                   |[osasco]               |\n",
      "|TRAVESSA SÃO FRANCISCO XAVIER|12211120|SAO JOSE DOS CAMPOS   |SP   |SANTANA            |-23.1594441        |-45.8917442       |083.439.919-90|Laura Santos   |13        |[sao, jose, dos, campos]   |[sao, jose, campos]    |\n",
      "|R JOAO MELLO REIS             |08830120|MOGI CRUZES           |SP   |JD S PEDRO         |NULL               |NULL              |539.726.098-30|Carlos Costa   |14        |[mogi, cruzes]             |[mogi, cruzes]         |\n",
      "|RUA JOSÃ DE ALENCAR          |13566000|SAO CARLOS            |SP   |VILA COSTA DO SOL  |-22.0028176        |-47.8898495       |171.542.893-50|Carlos Pereira |15        |[sao, carlos]              |[sao, carlos]          |\n",
      "|FAZENDA SANTA ELIZA           |13315000|CABREUVA              |SP   |PINHAL             |-23.28364017283716 |-47.12666408428345|152.815.313-80|João Ribeiro   |16        |[cabreuva]                 |[cabreuva]             |\n",
      "|R HUGO DE CAMPOS MARTINS      |13606371|ARARAS                |SP   |JD J OMETTO II     |NULL               |NULL              |613.225.269-00|Clara Oliveira |17        |[araras]                   |[araras]               |\n",
      "|ARREIO DE PRATA               |08225540|SAO PAULO             |SP   |CJ HAB A E CARVALHO|NULL               |NULL              |454.769.482-60|Beatriz Santos |18        |[sao, paulo]               |[sao, paulo]           |\n",
      "|RUA MONCAO                    |07170280|GUARULHOS             |SP   |JD PRESIDENTE DUTRA|NULL               |NULL              |342.002.512-20|Pedro Oliveira |19        |[guarulhos]                |[guarulhos]            |\n",
      "|FAZENDA XOROROCA              |12700000|CRUZEIRO              |SP   |ROD  PRES  DUTRA   |NULL               |NULL              |557.702.905-80|Pedro Lima     |20        |[cruzeiro]                 |[cruzeiro]             |\n",
      "+------------------------------+--------+----------------------+-----+-------------------+-------------------+------------------+--------------+---------------+----------+---------------------------+-----------------------+\n",
      "only showing top 20 rows\n",
      "\n"
     ]
    }
   ],
   "source": [
    "# Configurando o remover de stopwords\n",
    "stopwords_remover = StopWordsRemover(inputCol=\"palavras\", outputCol=\"TextoSemStopwords\", stopWords=list(stopwords_portugues))\n",
    "\n",
    "# Aplicando a remoção de stopwords (note que você deve ter a coluna \"Tokens\" do exemplo anterior)\n",
    "df_sem_stopwords = stopwords_remover.transform(tokenized)\n",
    "\n",
    "# Exibindo o DataFrame resultante\n",
    "print(\"\\nDataFrame Após Remoção de Stopwords:\")\n",
    "df_sem_stopwords.show(truncate=False)"
   ]
  },
  {
   "cell_type": "code",
   "execution_count": 15,
   "metadata": {},
   "outputs": [
    {
     "name": "stdout",
     "output_type": "stream",
     "text": [
      "+-----------+----------------------+---------------------+------+\n",
      "|palavra    |TextoSemStopwords     |NM_CIDADE            |count |\n",
      "+-----------+----------------------+---------------------+------+\n",
      "|paulo      |[sao, paulo]          |SAO PAULO            |726729|\n",
      "|sao        |[sao, paulo]          |SAO PAULO            |726729|\n",
      "|s          |[s, paulo]            |S PAULO              |116503|\n",
      "|paulo      |[s, paulo]            |S PAULO              |116503|\n",
      "|guarulhos  |[guarulhos]           |GUARULHOS            |91668 |\n",
      "|campinas   |[campinas]            |CAMPINAS             |74731 |\n",
      "|osasco     |[osasco]              |OSASCO               |52714 |\n",
      "|campo      |[sao, bernardo, campo]|SAO BERNARDO DO CAMPO|51287 |\n",
      "|sao        |[sao, bernardo, campo]|SAO BERNARDO DO CAMPO|51287 |\n",
      "|bernardo   |[sao, bernardo, campo]|SAO BERNARDO DO CAMPO|51287 |\n",
      "|sorocaba   |[sorocaba]            |SOROCABA             |47789 |\n",
      "|campos     |[sao, jose, campos]   |SAO JOSE DOS CAMPOS  |46909 |\n",
      "|jose       |[sao, jose, campos]   |SAO JOSE DOS CAMPOS  |46909 |\n",
      "|sao        |[sao, jose, campos]   |SAO JOSE DOS CAMPOS  |46909 |\n",
      "|santo      |[santo, andre]        |SANTO ANDRE          |42200 |\n",
      "|andre      |[santo, andre]        |SANTO ANDRE          |42200 |\n",
      "|preto      |[ribeirao, preto]     |RIBEIRAO PRETO       |41743 |\n",
      "|ribeirao   |[ribeirao, preto]     |RIBEIRAO PRETO       |41743 |\n",
      "|diadema    |[diadema]             |DIADEMA              |32794 |\n",
      "|carapicuiba|[carapicuiba]         |CARAPICUIBA          |32410 |\n",
      "+-----------+----------------------+---------------------+------+\n",
      "only showing top 20 rows\n",
      "\n"
     ]
    }
   ],
   "source": [
    "# Exploda as palavras em linhas\n",
    "exploded = df_sem_stopwords.select(explode(\"TextoSemStopwords\").alias(\"palavra\"), \"TextoSemStopwords\", \"NM_CIDADE\")\n",
    "exploded.groupBy([\"palavra\", \"TextoSemStopwords\", \"NM_CIDADE\"]).count().orderBy(col(\"count\").desc()).show(truncate=False)"
   ]
  },
  {
   "cell_type": "code",
   "execution_count": 16,
   "metadata": {},
   "outputs": [
    {
     "name": "stdout",
     "output_type": "stream",
     "text": [
      "+---------+------+\n",
      "|  palavra| count|\n",
      "+---------+------+\n",
      "|      sao|938014|\n",
      "|    paulo|854853|\n",
      "|        s|153734|\n",
      "|guarulhos| 93310|\n",
      "|     jose| 88631|\n",
      "| campinas| 75825|\n",
      "|    preto| 70883|\n",
      "|    campo| 65669|\n",
      "|   campos| 59610|\n",
      "| bernardo| 59541|\n",
      "| ribeirao| 55053|\n",
      "| paulista| 54155|\n",
      "|   osasco| 53247|\n",
      "|      rio| 51758|\n",
      "|    santo| 50613|\n",
      "|     mogi| 48504|\n",
      "| sorocaba| 48330|\n",
      "|    andre| 48117|\n",
      "|    serra| 47390|\n",
      "|   grande| 37711|\n",
      "+---------+------+\n",
      "only showing top 20 rows\n",
      "\n"
     ]
    }
   ],
   "source": [
    "# Conte a frequência das palavras\n",
    "word_freq = exploded.groupBy(\"palavra\").count().orderBy(col(\"count\").desc())\n",
    "\n",
    "# Mostre a tabela de frequência de palavras\n",
    "word_freq.show()"
   ]
  },
  {
   "cell_type": "code",
   "execution_count": 17,
   "metadata": {},
   "outputs": [
    {
     "data": {
      "text/plain": [
       "5048"
      ]
     },
     "execution_count": 17,
     "metadata": {},
     "output_type": "execute_result"
    }
   ],
   "source": [
    "word_freq.count()"
   ]
  },
  {
   "cell_type": "code",
   "execution_count": 18,
   "metadata": {},
   "outputs": [],
   "source": [
    "word_freq.toPandas().to_csv('word_freq.csv')"
   ]
  }
 ],
 "metadata": {
  "kernelspec": {
   "display_name": "Python 3",
   "language": "python",
   "name": "python3"
  },
  "language_info": {
   "codemirror_mode": {
    "name": "ipython",
    "version": 3
   },
   "file_extension": ".py",
   "mimetype": "text/x-python",
   "name": "python",
   "nbconvert_exporter": "python",
   "pygments_lexer": "ipython3",
   "version": "3.11.4"
  }
 },
 "nbformat": 4,
 "nbformat_minor": 2
}
