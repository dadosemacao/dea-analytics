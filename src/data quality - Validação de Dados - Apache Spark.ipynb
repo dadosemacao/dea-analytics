{
 "cells": [
  {
   "cell_type": "code",
   "execution_count": 1,
   "metadata": {},
   "outputs": [],
   "source": [
    "import os\n",
    "import findspark\n",
    "findspark.init(os.environ['SPARK_HOME'])\n",
    "\n",
    "from pyspark.sql import SparkSession\n",
    "from pyspark.sql.functions import col, when"
   ]
  },
  {
   "cell_type": "code",
   "execution_count": 2,
   "metadata": {},
   "outputs": [],
   "source": [
    "# Inicializando a sessão do Spark\n",
    "spark = SparkSession.builder.appName(\"Exemplo\").getOrCreate()"
   ]
  },
  {
   "cell_type": "markdown",
   "metadata": {},
   "source": [
    "## Data Quality\n",
    "---"
   ]
  },
  {
   "cell_type": "markdown",
   "metadata": {},
   "source": [
    "- **Validação de Dados:** Assegurar que os dados estejam corretos e sigam regras de negócio."
   ]
  },
  {
   "cell_type": "code",
   "execution_count": 9,
   "metadata": {},
   "outputs": [
    {
     "name": "stdout",
     "output_type": "stream",
     "text": [
      "+--------+--------------+\n",
      "| Cliente|DataNascimento|\n",
      "+--------+--------------+\n",
      "|Cliente1|    1990-01-15|\n",
      "|Cliente2|    2005-05-20|\n",
      "|Cliente3|    1980-03-10|\n",
      "|Cliente4|    1930-03-10|\n",
      "|Cliente5|    2024-03-10|\n",
      "+--------+--------------+\n",
      "\n"
     ]
    }
   ],
   "source": [
    "# Criando um DataFrame de exemplo com datas de nascimento\n",
    "data = [(\"Cliente1\", \"1990-01-15\"),\n",
    "        (\"Cliente2\", \"2005-05-20\"),\n",
    "        (\"Cliente3\", \"1980-03-10\"),\n",
    "        (\"Cliente4\", \"1930-03-10\"),\n",
    "        (\"Cliente5\", \"2024-03-10\")]\n",
    "\n",
    "columns = [\"Cliente\", \"DataNascimento\"]\n",
    "\n",
    "df = spark.createDataFrame(data, columns)\n",
    "\n",
    "df.show()"
   ]
  },
  {
   "cell_type": "code",
   "execution_count": 4,
   "metadata": {},
   "outputs": [],
   "source": [
    "# Definindo o intervalo válido para datas de nascimento\n",
    "data_inicio_valida = \"1950-01-01\"\n",
    "data_fim_valida = \"2023-12-31\""
   ]
  },
  {
   "cell_type": "code",
   "execution_count": 10,
   "metadata": {},
   "outputs": [
    {
     "name": "stdout",
     "output_type": "stream",
     "text": [
      "+--------+--------------+-----------------------+\n",
      "| Cliente|DataNascimento|ValidacaoDataNascimento|\n",
      "+--------+--------------+-----------------------+\n",
      "|Cliente1|    1990-01-15|                 Válida|\n",
      "|Cliente2|    2005-05-20|                 Válida|\n",
      "|Cliente3|    1980-03-10|                 Válida|\n",
      "|Cliente4|    1930-03-10|               Inválida|\n",
      "|Cliente5|    2024-03-10|               Inválida|\n",
      "+--------+--------------+-----------------------+\n",
      "\n"
     ]
    }
   ],
   "source": [
    "# Validando se as datas de nascimento estão dentro do intervalo válido\n",
    "df_validado = df.withColumn(\"ValidacaoDataNascimento\",\n",
    "                            when((col(\"DataNascimento\") >= data_inicio_valida) & (col(\"DataNascimento\") <= data_fim_valida), \"Válida\")\n",
    "                            .otherwise(\"Inválida\"))\n",
    "\n",
    "# Mostrando o DataFrame resultante\n",
    "df_validado.show()"
   ]
  },
  {
   "cell_type": "code",
   "execution_count": 11,
   "metadata": {},
   "outputs": [],
   "source": [
    "spark.stop()"
   ]
  }
 ],
 "metadata": {
  "kernelspec": {
   "display_name": "Python 3",
   "language": "python",
   "name": "python3"
  },
  "language_info": {
   "codemirror_mode": {
    "name": "ipython",
    "version": 3
   },
   "file_extension": ".py",
   "mimetype": "text/x-python",
   "name": "python",
   "nbconvert_exporter": "python",
   "pygments_lexer": "ipython3",
   "version": "3.11.4"
  }
 },
 "nbformat": 4,
 "nbformat_minor": 2
}
