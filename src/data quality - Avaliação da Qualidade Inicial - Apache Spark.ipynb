{
 "cells": [
  {
   "cell_type": "code",
   "execution_count": 1,
   "metadata": {},
   "outputs": [],
   "source": [
    "import os\n",
    "import findspark\n",
    "findspark.init(os.environ['SPARK_HOME'])\n",
    "\n",
    "from pyspark.sql import SparkSession\n",
    "from pyspark.sql.functions import col, count, when"
   ]
  },
  {
   "cell_type": "code",
   "execution_count": 2,
   "metadata": {},
   "outputs": [],
   "source": [
    "# Inicializando a sessão do Spark\n",
    "spark = SparkSession.builder.appName(\"Exemplo\").getOrCreate()"
   ]
  },
  {
   "cell_type": "markdown",
   "metadata": {},
   "source": [
    "## Data Quality\n",
    "---"
   ]
  },
  {
   "cell_type": "markdown",
   "metadata": {},
   "source": [
    "- **Avaliação da Qualidade Inicial:** Avaliar o estado atual dos dados quanto a precisão, completude e consistência."
   ]
  },
  {
   "cell_type": "code",
   "execution_count": 3,
   "metadata": {},
   "outputs": [
    {
     "name": "stdout",
     "output_type": "stream",
     "text": [
      "+--------+--------------+-----+\n",
      "|    Nome|        Cidade|Idade|\n",
      "+--------+--------------+-----+\n",
      "|Cliente1|     São Paulo|   25|\n",
      "|Cliente2|          NULL|   30|\n",
      "|    NULL|Rio de Janeiro|   35|\n",
      "+--------+--------------+-----+\n",
      "\n"
     ]
    }
   ],
   "source": [
    "# Criando um DataFrame de exemplo com colunas obrigatórias\n",
    "data = [(\"Cliente1\", \"São Paulo\", 25),\n",
    "        (\"Cliente2\", None, 30),\n",
    "        (None, \"Rio de Janeiro\", 35)]\n",
    "\n",
    "columns = [\"Nome\", \"Cidade\", \"Idade\"]\n",
    "\n",
    "df = spark.createDataFrame(data, columns)\n",
    "df.show()"
   ]
  },
  {
   "cell_type": "code",
   "execution_count": 6,
   "metadata": {},
   "outputs": [
    {
     "name": "stdout",
     "output_type": "stream",
     "text": [
      "+--------+--------------+-----+----------+\n",
      "|    Nome|        Cidade|Idade| Qualidade|\n",
      "+--------+--------------+-----+----------+\n",
      "|Cliente1|     São Paulo|   25|  Completo|\n",
      "|Cliente2|          NULL|   30|Incompleto|\n",
      "|    NULL|Rio de Janeiro|   35|Incompleto|\n",
      "+--------+--------------+-----+----------+\n",
      "\n"
     ]
    }
   ],
   "source": [
    "# Verificando se todas as colunas obrigatórias estão preenchidas\n",
    "colunas_obrigatorias = [\"Nome\", \"Cidade\", \"Idade\"]\n",
    "\n",
    "df_avaliado = df.withColumn(\"Qualidade\",\n",
    "                                      when((col(\"Nome\").isNotNull()) & (col(\"Cidade\").isNotNull()) & (col(\"Idade\").isNotNull()), \"Completo\")\n",
    "                                      .otherwise(\"Incompleto\"))\n",
    "\n",
    "# Mostrando o DataFrame resultante\n",
    "df_avaliado.show()"
   ]
  },
  {
   "cell_type": "code",
   "execution_count": 7,
   "metadata": {},
   "outputs": [],
   "source": [
    "spark.stop()"
   ]
  }
 ],
 "metadata": {
  "kernelspec": {
   "display_name": "Python 3",
   "language": "python",
   "name": "python3"
  },
  "language_info": {
   "codemirror_mode": {
    "name": "ipython",
    "version": 3
   },
   "file_extension": ".py",
   "mimetype": "text/x-python",
   "name": "python",
   "nbconvert_exporter": "python",
   "pygments_lexer": "ipython3",
   "version": "3.11.4"
  }
 },
 "nbformat": 4,
 "nbformat_minor": 2
}
