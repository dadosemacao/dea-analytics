{
 "cells": [
  {
   "cell_type": "code",
   "execution_count": 3,
   "metadata": {},
   "outputs": [],
   "source": [
    "import os\n",
    "import findspark\n",
    "findspark.init(os.environ['SPARK_HOME'])\n",
    "\n",
    "from pyspark.sql import SparkSession\n",
    "from pyspark.sql.functions import col"
   ]
  },
  {
   "cell_type": "code",
   "execution_count": 4,
   "metadata": {},
   "outputs": [],
   "source": [
    "# Inicializando a sessão do Spark\n",
    "spark = SparkSession.builder.appName(\"Exemplo\").getOrCreate()"
   ]
  },
  {
   "cell_type": "markdown",
   "metadata": {},
   "source": [
    "## Data Transformation\n",
    "---"
   ]
  },
  {
   "cell_type": "code",
   "execution_count": 5,
   "metadata": {},
   "outputs": [
    {
     "name": "stdout",
     "output_type": "stream",
     "text": [
      "DataFrame Original:\n",
      "+--------+----------+-----+-----------------+\n",
      "| Produto| Categoria|Preco|QuantidadeVendida|\n",
      "+--------+----------+-----+-----------------+\n",
      "|Produto1|CategoriaA|  100|               50|\n",
      "|Produto2|CategoriaB|  150|             NULL|\n",
      "|Produto3|CategoriaA|  200|               30|\n",
      "+--------+----------+-----+-----------------+\n",
      "\n"
     ]
    }
   ],
   "source": [
    "# Criando um DataFrame de exemplo\n",
    "data = [(\"Produto1\", \"CategoriaA\", 100, 50),\n",
    "        (\"Produto2\", \"CategoriaB\", 150, None),\n",
    "        (\"Produto3\", \"CategoriaA\", 200, 30)]\n",
    "\n",
    "columns = [\"Produto\", \"Categoria\", \"Preco\", \"QuantidadeVendida\"]\n",
    "\n",
    "df = spark.createDataFrame(data, columns)\n",
    "\n",
    "# Exibindo o DataFrame original\n",
    "print(\"DataFrame Original:\")\n",
    "df.show()"
   ]
  },
  {
   "cell_type": "markdown",
   "metadata": {},
   "source": [
    "* **Seleção de Colunas:** Escolher quais colunas são relevantes para a análise ou para o modelo."
   ]
  },
  {
   "cell_type": "code",
   "execution_count": 9,
   "metadata": {},
   "outputs": [
    {
     "name": "stdout",
     "output_type": "stream",
     "text": [
      "1. Seleção de Colunas:\n",
      "+--------+-----+\n",
      "| Produto|Preco|\n",
      "+--------+-----+\n",
      "|Produto1|  100|\n",
      "|Produto2|  150|\n",
      "|Produto3|  200|\n",
      "+--------+-----+\n",
      "\n"
     ]
    }
   ],
   "source": [
    "df_selecionado = df.select(\"Produto\", \"Preco\")\n",
    "print(\"1. Seleção de Colunas:\")\n",
    "df_selecionado.show()"
   ]
  },
  {
   "cell_type": "markdown",
   "metadata": {},
   "source": [
    "* **Filtragem de Linhas:** Excluir ou manter linhas com base em condições específicas."
   ]
  },
  {
   "cell_type": "code",
   "execution_count": 10,
   "metadata": {},
   "outputs": [
    {
     "name": "stdout",
     "output_type": "stream",
     "text": [
      "2. Filtragem de Linhas:\n",
      "+--------+----------+-----+-----------------+\n",
      "| Produto| Categoria|Preco|QuantidadeVendida|\n",
      "+--------+----------+-----+-----------------+\n",
      "|Produto1|CategoriaA|  100|               50|\n",
      "|Produto3|CategoriaA|  200|               30|\n",
      "+--------+----------+-----+-----------------+\n",
      "\n"
     ]
    }
   ],
   "source": [
    "df_filtrado = df.filter(col(\"QuantidadeVendida\").isNotNull())\n",
    "print(\"2. Filtragem de Linhas:\")\n",
    "df_filtrado.show()"
   ]
  },
  {
   "cell_type": "markdown",
   "metadata": {},
   "source": [
    "* **Tratamento de Valores Nulos:** Lidar com valores nulos, seja removendo, preenchendo ou substituindo."
   ]
  },
  {
   "cell_type": "code",
   "execution_count": 11,
   "metadata": {},
   "outputs": [
    {
     "name": "stdout",
     "output_type": "stream",
     "text": [
      "3. Tratamento de Valores Nulos:\n",
      "+--------+----------+-----+-----------------+\n",
      "| Produto| Categoria|Preco|QuantidadeVendida|\n",
      "+--------+----------+-----+-----------------+\n",
      "|Produto1|CategoriaA|  100|               50|\n",
      "|Produto2|CategoriaB|  150|                0|\n",
      "|Produto3|CategoriaA|  200|               30|\n",
      "+--------+----------+-----+-----------------+\n",
      "\n"
     ]
    }
   ],
   "source": [
    "df_tratado_nulos = df.fillna(0, subset=[\"QuantidadeVendida\"])\n",
    "print(\"3. Tratamento de Valores Nulos:\")\n",
    "df_tratado_nulos.show()"
   ]
  },
  {
   "cell_type": "markdown",
   "metadata": {},
   "source": [
    "* **Criar Novas Colunas:** Derivar novas colunas com base em cálculos ou transformações de colunas existentes."
   ]
  },
  {
   "cell_type": "code",
   "execution_count": 12,
   "metadata": {},
   "outputs": [
    {
     "name": "stdout",
     "output_type": "stream",
     "text": [
      "4. Criar Novas Colunas:\n",
      "+--------+----------+-----+-----------------+-----------+\n",
      "| Produto| Categoria|Preco|QuantidadeVendida|TotalVendas|\n",
      "+--------+----------+-----+-----------------+-----------+\n",
      "|Produto1|CategoriaA|  100|               50|       5000|\n",
      "|Produto2|CategoriaB|  150|             NULL|       NULL|\n",
      "|Produto3|CategoriaA|  200|               30|       6000|\n",
      "+--------+----------+-----+-----------------+-----------+\n",
      "\n"
     ]
    }
   ],
   "source": [
    "df_com_nova_coluna = df.withColumn(\"TotalVendas\", col(\"Preco\") * col(\"QuantidadeVendida\"))\n",
    "print(\"4. Criar Novas Colunas:\")\n",
    "df_com_nova_coluna.show()"
   ]
  },
  {
   "cell_type": "markdown",
   "metadata": {},
   "source": [
    "* **Agregação e Resumo:** Resumir dados usando funções agregadas como soma, média, mínimo, máximo, etc."
   ]
  },
  {
   "cell_type": "code",
   "execution_count": 13,
   "metadata": {},
   "outputs": [
    {
     "name": "stdout",
     "output_type": "stream",
     "text": [
      "5. Agregação e Resumo:\n",
      "+----------+----------------------+----------+\n",
      "| Categoria|sum(QuantidadeVendida)|avg(Preco)|\n",
      "+----------+----------------------+----------+\n",
      "|CategoriaA|                    80|     150.0|\n",
      "|CategoriaB|                  NULL|     150.0|\n",
      "+----------+----------------------+----------+\n",
      "\n"
     ]
    }
   ],
   "source": [
    "df_resumido = df.groupBy(\"Categoria\").agg({\"Preco\": \"avg\", \"QuantidadeVendida\": \"sum\"})\n",
    "print(\"5. Agregação e Resumo:\")\n",
    "df_resumido.show()"
   ]
  },
  {
   "cell_type": "markdown",
   "metadata": {},
   "source": [
    "* **Join e Concatenação:** Combinar dados de diferentes fontes usando operações de join ou concatenando DataFrames."
   ]
  },
  {
   "cell_type": "code",
   "execution_count": 15,
   "metadata": {},
   "outputs": [
    {
     "name": "stdout",
     "output_type": "stream",
     "text": [
      "+----------+----------+\n",
      "| Categoria| Descricao|\n",
      "+----------+----------+\n",
      "|CategoriaA|Descrição1|\n",
      "|CategoriaB|Descrição2|\n",
      "+----------+----------+\n",
      "\n"
     ]
    }
   ],
   "source": [
    "df_categorias = spark.createDataFrame([(\"CategoriaA\", \"Descrição1\"), (\"CategoriaB\", \"Descrição2\")], [\"Categoria\", \"Descricao\"])\n",
    "df_categorias.show()"
   ]
  },
  {
   "cell_type": "code",
   "execution_count": 16,
   "metadata": {},
   "outputs": [
    {
     "name": "stdout",
     "output_type": "stream",
     "text": [
      "6. Join e Concatenação:\n",
      "+----------+--------+-----+-----------------+----------+\n",
      "| Categoria| Produto|Preco|QuantidadeVendida| Descricao|\n",
      "+----------+--------+-----+-----------------+----------+\n",
      "|CategoriaA|Produto1|  100|               50|Descrição1|\n",
      "|CategoriaB|Produto2|  150|             NULL|Descrição2|\n",
      "|CategoriaA|Produto3|  200|               30|Descrição1|\n",
      "+----------+--------+-----+-----------------+----------+\n",
      "\n"
     ]
    }
   ],
   "source": [
    "df_junto = df.join(df_categorias, on=\"Categoria\", how=\"left_outer\")\n",
    "print(\"6. Join e Concatenação:\")\n",
    "df_junto.show()"
   ]
  },
  {
   "cell_type": "markdown",
   "metadata": {},
   "source": [
    "* **Ordenação e Classificação:** Ordenar os dados com base em uma ou mais colunas."
   ]
  },
  {
   "cell_type": "code",
   "execution_count": 19,
   "metadata": {},
   "outputs": [
    {
     "ename": "AssertionError",
     "evalue": "",
     "output_type": "error",
     "traceback": [
      "\u001b[1;31m---------------------------------------------------------------------------\u001b[0m",
      "\u001b[1;31mAssertionError\u001b[0m                            Traceback (most recent call last)",
      "\u001b[1;32m~\\AppData\\Local\\Temp\\ipykernel_13884\\969241470.py\u001b[0m in \u001b[0;36m?\u001b[1;34m()\u001b[0m\n\u001b[1;32m----> 1\u001b[1;33m \u001b[0mdf_ordenado\u001b[0m \u001b[1;33m=\u001b[0m \u001b[0mdf\u001b[0m\u001b[1;33m.\u001b[0m\u001b[0msort\u001b[0m\u001b[1;33m(\u001b[0m\u001b[0mcol\u001b[0m\u001b[1;33m(\u001b[0m\u001b[1;34m\"Preco\"\u001b[0m\u001b[1;33m)\u001b[0m\u001b[1;33m.\u001b[0m\u001b[0mdesc\u001b[0m\u001b[1;33m(\u001b[0m\u001b[1;33m)\u001b[0m\u001b[1;33m)\u001b[0m\u001b[1;33m\u001b[0m\u001b[1;33m\u001b[0m\u001b[0m\n\u001b[0m\u001b[0;32m      2\u001b[0m \u001b[0mprint\u001b[0m\u001b[1;33m(\u001b[0m\u001b[1;34m\"7. Ordenação e Classificação:\"\u001b[0m\u001b[1;33m)\u001b[0m\u001b[1;33m\u001b[0m\u001b[1;33m\u001b[0m\u001b[0m\n\u001b[0;32m      3\u001b[0m \u001b[0mdf_ordenado\u001b[0m\u001b[1;33m.\u001b[0m\u001b[0mshow\u001b[0m\u001b[1;33m(\u001b[0m\u001b[1;33m)\u001b[0m\u001b[1;33m\u001b[0m\u001b[1;33m\u001b[0m\u001b[0m\n",
      "\u001b[1;32mE:\\\\Developement\\\\afirmanet\\\\drives\\\\spark-3.5.1-bin-hadoop3\\python\\pyspark\\sql\\utils.py\u001b[0m in \u001b[0;36m?\u001b[1;34m(*args, **kwargs)\u001b[0m\n\u001b[0;32m    170\u001b[0m             \u001b[1;32mfrom\u001b[0m \u001b[0mpyspark\u001b[0m\u001b[1;33m.\u001b[0m\u001b[0msql\u001b[0m\u001b[1;33m.\u001b[0m\u001b[0mconnect\u001b[0m \u001b[1;32mimport\u001b[0m \u001b[0mfunctions\u001b[0m\u001b[1;33m\u001b[0m\u001b[1;33m\u001b[0m\u001b[0m\n\u001b[0;32m    171\u001b[0m \u001b[1;33m\u001b[0m\u001b[0m\n\u001b[0;32m    172\u001b[0m             \u001b[1;32mreturn\u001b[0m \u001b[0mgetattr\u001b[0m\u001b[1;33m(\u001b[0m\u001b[0mfunctions\u001b[0m\u001b[1;33m,\u001b[0m \u001b[0mf\u001b[0m\u001b[1;33m.\u001b[0m\u001b[0m__name__\u001b[0m\u001b[1;33m)\u001b[0m\u001b[1;33m(\u001b[0m\u001b[1;33m*\u001b[0m\u001b[0margs\u001b[0m\u001b[1;33m,\u001b[0m \u001b[1;33m**\u001b[0m\u001b[0mkwargs\u001b[0m\u001b[1;33m)\u001b[0m\u001b[1;33m\u001b[0m\u001b[1;33m\u001b[0m\u001b[0m\n\u001b[0;32m    173\u001b[0m         \u001b[1;32melse\u001b[0m\u001b[1;33m:\u001b[0m\u001b[1;33m\u001b[0m\u001b[1;33m\u001b[0m\u001b[0m\n\u001b[1;32m--> 174\u001b[1;33m             \u001b[1;32mreturn\u001b[0m \u001b[0mf\u001b[0m\u001b[1;33m(\u001b[0m\u001b[1;33m*\u001b[0m\u001b[0margs\u001b[0m\u001b[1;33m,\u001b[0m \u001b[1;33m**\u001b[0m\u001b[0mkwargs\u001b[0m\u001b[1;33m)\u001b[0m\u001b[1;33m\u001b[0m\u001b[1;33m\u001b[0m\u001b[0m\n\u001b[0m",
      "\u001b[1;32mE:\\\\Developement\\\\afirmanet\\\\drives\\\\spark-3.5.1-bin-hadoop3\\python\\pyspark\\sql\\functions.py\u001b[0m in \u001b[0;36m?\u001b[1;34m(col)\u001b[0m\n\u001b[0;32m    219\u001b[0m     \u001b[0mColumn\u001b[0m\u001b[1;33m<\u001b[0m\u001b[1;34m'x'\u001b[0m\u001b[1;33m>\u001b[0m\u001b[1;33m\u001b[0m\u001b[1;33m\u001b[0m\u001b[0m\n\u001b[0;32m    220\u001b[0m     \u001b[1;33m>>\u001b[0m\u001b[1;33m>\u001b[0m \u001b[0mcolumn\u001b[0m\u001b[1;33m(\u001b[0m\u001b[1;34m'x'\u001b[0m\u001b[1;33m)\u001b[0m\u001b[1;33m\u001b[0m\u001b[1;33m\u001b[0m\u001b[0m\n\u001b[0;32m    221\u001b[0m     \u001b[0mColumn\u001b[0m\u001b[1;33m<\u001b[0m\u001b[1;34m'x'\u001b[0m\u001b[1;33m>\u001b[0m\u001b[1;33m\u001b[0m\u001b[1;33m\u001b[0m\u001b[0m\n\u001b[0;32m    222\u001b[0m     \"\"\"\n\u001b[1;32m--> 223\u001b[1;33m     \u001b[1;32mreturn\u001b[0m \u001b[0m_invoke_function\u001b[0m\u001b[1;33m(\u001b[0m\u001b[1;34m\"col\"\u001b[0m\u001b[1;33m,\u001b[0m \u001b[0mcol\u001b[0m\u001b[1;33m)\u001b[0m\u001b[1;33m\u001b[0m\u001b[1;33m\u001b[0m\u001b[0m\n\u001b[0m",
      "\u001b[1;32mE:\\\\Developement\\\\afirmanet\\\\drives\\\\spark-3.5.1-bin-hadoop3\\python\\pyspark\\sql\\functions.py\u001b[0m in \u001b[0;36m?\u001b[1;34m(name, *args)\u001b[0m\n\u001b[0;32m     91\u001b[0m     \"\"\"\n\u001b[0;32m     92\u001b[0m     \u001b[0mInvokes\u001b[0m \u001b[0mJVM\u001b[0m \u001b[0mfunction\u001b[0m \u001b[0midentified\u001b[0m \u001b[0mby\u001b[0m \u001b[0mname\u001b[0m \u001b[1;32mwith\u001b[0m \u001b[0margs\u001b[0m\u001b[1;33m\u001b[0m\u001b[1;33m\u001b[0m\u001b[0m\n\u001b[0;32m     93\u001b[0m     \u001b[1;32mand\u001b[0m \u001b[0mwraps\u001b[0m \u001b[0mthe\u001b[0m \u001b[0mresult\u001b[0m \u001b[1;32mwith\u001b[0m \u001b[1;33m:\u001b[0m\u001b[1;32mclass\u001b[0m\u001b[1;33m:\u001b[0m\u001b[0;31m`\u001b[0m\u001b[1;33m~\u001b[0m\u001b[0mpyspark\u001b[0m\u001b[1;33m.\u001b[0m\u001b[0msql\u001b[0m\u001b[1;33m.\u001b[0m\u001b[0mColumn\u001b[0m\u001b[0;31m`\u001b[0m\u001b[1;33m.\u001b[0m\u001b[1;33m\u001b[0m\u001b[1;33m\u001b[0m\u001b[0m\n\u001b[0;32m     94\u001b[0m     \"\"\"\n\u001b[1;32m---> 95\u001b[1;33m     \u001b[1;32massert\u001b[0m \u001b[0mSparkContext\u001b[0m\u001b[1;33m.\u001b[0m\u001b[0m_active_spark_context\u001b[0m \u001b[1;32mis\u001b[0m \u001b[1;32mnot\u001b[0m \u001b[1;32mNone\u001b[0m\u001b[1;33m\u001b[0m\u001b[1;33m\u001b[0m\u001b[0m\n\u001b[0m\u001b[0;32m     96\u001b[0m     \u001b[0mjf\u001b[0m \u001b[1;33m=\u001b[0m \u001b[0m_get_jvm_function\u001b[0m\u001b[1;33m(\u001b[0m\u001b[0mname\u001b[0m\u001b[1;33m,\u001b[0m \u001b[0mSparkContext\u001b[0m\u001b[1;33m.\u001b[0m\u001b[0m_active_spark_context\u001b[0m\u001b[1;33m)\u001b[0m\u001b[1;33m\u001b[0m\u001b[1;33m\u001b[0m\u001b[0m\n\u001b[0;32m     97\u001b[0m     \u001b[1;32mreturn\u001b[0m \u001b[0mColumn\u001b[0m\u001b[1;33m(\u001b[0m\u001b[0mjf\u001b[0m\u001b[1;33m(\u001b[0m\u001b[1;33m*\u001b[0m\u001b[0margs\u001b[0m\u001b[1;33m)\u001b[0m\u001b[1;33m)\u001b[0m\u001b[1;33m\u001b[0m\u001b[1;33m\u001b[0m\u001b[0m\n",
      "\u001b[1;31mAssertionError\u001b[0m: "
     ]
    }
   ],
   "source": [
    "df_ordenado = df.sort(col(\"Preco\").desc())\n",
    "print(\"7. Ordenação e Classificação:\")\n",
    "df_ordenado.show()"
   ]
  },
  {
   "cell_type": "code",
   "execution_count": 18,
   "metadata": {},
   "outputs": [],
   "source": [
    "spark.stop()"
   ]
  }
 ],
 "metadata": {
  "kernelspec": {
   "display_name": "Python 3",
   "language": "python",
   "name": "python3"
  },
  "language_info": {
   "codemirror_mode": {
    "name": "ipython",
    "version": 3
   },
   "file_extension": ".py",
   "mimetype": "text/x-python",
   "name": "python",
   "nbconvert_exporter": "python",
   "pygments_lexer": "ipython3",
   "version": "3.11.4"
  }
 },
 "nbformat": 4,
 "nbformat_minor": 2
}
